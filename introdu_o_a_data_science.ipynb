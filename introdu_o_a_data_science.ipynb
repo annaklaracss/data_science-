{
  "nbformat": 4,
  "nbformat_minor": 0,
  "metadata": {
    "colab": {
      "provenance": [],
      "authorship_tag": "ABX9TyMoNZut68y6V+TBvltQd5gC",
      "include_colab_link": true
    },
    "kernelspec": {
      "name": "python3",
      "display_name": "Python 3"
    },
    "language_info": {
      "name": "python"
    }
  },
  "cells": [
    {
      "cell_type": "markdown",
      "metadata": {
        "id": "view-in-github",
        "colab_type": "text"
      },
      "source": [
        "<a href=\"https://colab.research.google.com/github/annaklaracss/data_science-/blob/main/introdu_o_a_data_science.ipynb\" target=\"_parent\"><img src=\"https://colab.research.google.com/assets/colab-badge.svg\" alt=\"Open In Colab\"/></a>"
      ]
    },
    {
      "cell_type": "code",
      "execution_count": 35,
      "metadata": {
        "id": "avZT_jYP1tdX"
      },
      "outputs": [],
      "source": [
        "#arquivos csv tem virgulas separando\n",
        "import pandas as pd #forma de importar a biblioteca de pandas"
      ]
    },
    {
      "cell_type": "code",
      "source": [
        "notas = pd.read_csv(\"https://raw.githubusercontent.com/alura-cursos/data-science-analise-exploratoria/main/Aula_0/ml-latest-small/ratings.csv\")\n",
        "notas"
      ],
      "metadata": {
        "colab": {
          "base_uri": "https://localhost:8080/",
          "height": 424
        },
        "id": "ubCwjOhx4EBo",
        "outputId": "a0070929-5e15-472a-8ab8-beccec999bac"
      },
      "execution_count": 36,
      "outputs": [
        {
          "output_type": "execute_result",
          "data": {
            "text/plain": [
              "        userId  movieId  rating   timestamp\n",
              "0            1        1     4.0   964982703\n",
              "1            1        3     4.0   964981247\n",
              "2            1        6     4.0   964982224\n",
              "3            1       47     5.0   964983815\n",
              "4            1       50     5.0   964982931\n",
              "...        ...      ...     ...         ...\n",
              "100831     610   166534     4.0  1493848402\n",
              "100832     610   168248     5.0  1493850091\n",
              "100833     610   168250     5.0  1494273047\n",
              "100834     610   168252     5.0  1493846352\n",
              "100835     610   170875     3.0  1493846415\n",
              "\n",
              "[100836 rows x 4 columns]"
            ],
            "text/html": [
              "\n",
              "  <div id=\"df-0667939e-75dd-41c4-91c2-b8d3a1915fa5\" class=\"colab-df-container\">\n",
              "    <div>\n",
              "<style scoped>\n",
              "    .dataframe tbody tr th:only-of-type {\n",
              "        vertical-align: middle;\n",
              "    }\n",
              "\n",
              "    .dataframe tbody tr th {\n",
              "        vertical-align: top;\n",
              "    }\n",
              "\n",
              "    .dataframe thead th {\n",
              "        text-align: right;\n",
              "    }\n",
              "</style>\n",
              "<table border=\"1\" class=\"dataframe\">\n",
              "  <thead>\n",
              "    <tr style=\"text-align: right;\">\n",
              "      <th></th>\n",
              "      <th>userId</th>\n",
              "      <th>movieId</th>\n",
              "      <th>rating</th>\n",
              "      <th>timestamp</th>\n",
              "    </tr>\n",
              "  </thead>\n",
              "  <tbody>\n",
              "    <tr>\n",
              "      <th>0</th>\n",
              "      <td>1</td>\n",
              "      <td>1</td>\n",
              "      <td>4.0</td>\n",
              "      <td>964982703</td>\n",
              "    </tr>\n",
              "    <tr>\n",
              "      <th>1</th>\n",
              "      <td>1</td>\n",
              "      <td>3</td>\n",
              "      <td>4.0</td>\n",
              "      <td>964981247</td>\n",
              "    </tr>\n",
              "    <tr>\n",
              "      <th>2</th>\n",
              "      <td>1</td>\n",
              "      <td>6</td>\n",
              "      <td>4.0</td>\n",
              "      <td>964982224</td>\n",
              "    </tr>\n",
              "    <tr>\n",
              "      <th>3</th>\n",
              "      <td>1</td>\n",
              "      <td>47</td>\n",
              "      <td>5.0</td>\n",
              "      <td>964983815</td>\n",
              "    </tr>\n",
              "    <tr>\n",
              "      <th>4</th>\n",
              "      <td>1</td>\n",
              "      <td>50</td>\n",
              "      <td>5.0</td>\n",
              "      <td>964982931</td>\n",
              "    </tr>\n",
              "    <tr>\n",
              "      <th>...</th>\n",
              "      <td>...</td>\n",
              "      <td>...</td>\n",
              "      <td>...</td>\n",
              "      <td>...</td>\n",
              "    </tr>\n",
              "    <tr>\n",
              "      <th>100831</th>\n",
              "      <td>610</td>\n",
              "      <td>166534</td>\n",
              "      <td>4.0</td>\n",
              "      <td>1493848402</td>\n",
              "    </tr>\n",
              "    <tr>\n",
              "      <th>100832</th>\n",
              "      <td>610</td>\n",
              "      <td>168248</td>\n",
              "      <td>5.0</td>\n",
              "      <td>1493850091</td>\n",
              "    </tr>\n",
              "    <tr>\n",
              "      <th>100833</th>\n",
              "      <td>610</td>\n",
              "      <td>168250</td>\n",
              "      <td>5.0</td>\n",
              "      <td>1494273047</td>\n",
              "    </tr>\n",
              "    <tr>\n",
              "      <th>100834</th>\n",
              "      <td>610</td>\n",
              "      <td>168252</td>\n",
              "      <td>5.0</td>\n",
              "      <td>1493846352</td>\n",
              "    </tr>\n",
              "    <tr>\n",
              "      <th>100835</th>\n",
              "      <td>610</td>\n",
              "      <td>170875</td>\n",
              "      <td>3.0</td>\n",
              "      <td>1493846415</td>\n",
              "    </tr>\n",
              "  </tbody>\n",
              "</table>\n",
              "<p>100836 rows × 4 columns</p>\n",
              "</div>\n",
              "    <div class=\"colab-df-buttons\">\n",
              "\n",
              "  <div class=\"colab-df-container\">\n",
              "    <button class=\"colab-df-convert\" onclick=\"convertToInteractive('df-0667939e-75dd-41c4-91c2-b8d3a1915fa5')\"\n",
              "            title=\"Convert this dataframe to an interactive table.\"\n",
              "            style=\"display:none;\">\n",
              "\n",
              "  <svg xmlns=\"http://www.w3.org/2000/svg\" height=\"24px\" viewBox=\"0 -960 960 960\">\n",
              "    <path d=\"M120-120v-720h720v720H120Zm60-500h600v-160H180v160Zm220 220h160v-160H400v160Zm0 220h160v-160H400v160ZM180-400h160v-160H180v160Zm440 0h160v-160H620v160ZM180-180h160v-160H180v160Zm440 0h160v-160H620v160Z\"/>\n",
              "  </svg>\n",
              "    </button>\n",
              "\n",
              "  <style>\n",
              "    .colab-df-container {\n",
              "      display:flex;\n",
              "      gap: 12px;\n",
              "    }\n",
              "\n",
              "    .colab-df-convert {\n",
              "      background-color: #E8F0FE;\n",
              "      border: none;\n",
              "      border-radius: 50%;\n",
              "      cursor: pointer;\n",
              "      display: none;\n",
              "      fill: #1967D2;\n",
              "      height: 32px;\n",
              "      padding: 0 0 0 0;\n",
              "      width: 32px;\n",
              "    }\n",
              "\n",
              "    .colab-df-convert:hover {\n",
              "      background-color: #E2EBFA;\n",
              "      box-shadow: 0px 1px 2px rgba(60, 64, 67, 0.3), 0px 1px 3px 1px rgba(60, 64, 67, 0.15);\n",
              "      fill: #174EA6;\n",
              "    }\n",
              "\n",
              "    .colab-df-buttons div {\n",
              "      margin-bottom: 4px;\n",
              "    }\n",
              "\n",
              "    [theme=dark] .colab-df-convert {\n",
              "      background-color: #3B4455;\n",
              "      fill: #D2E3FC;\n",
              "    }\n",
              "\n",
              "    [theme=dark] .colab-df-convert:hover {\n",
              "      background-color: #434B5C;\n",
              "      box-shadow: 0px 1px 3px 1px rgba(0, 0, 0, 0.15);\n",
              "      filter: drop-shadow(0px 1px 2px rgba(0, 0, 0, 0.3));\n",
              "      fill: #FFFFFF;\n",
              "    }\n",
              "  </style>\n",
              "\n",
              "    <script>\n",
              "      const buttonEl =\n",
              "        document.querySelector('#df-0667939e-75dd-41c4-91c2-b8d3a1915fa5 button.colab-df-convert');\n",
              "      buttonEl.style.display =\n",
              "        google.colab.kernel.accessAllowed ? 'block' : 'none';\n",
              "\n",
              "      async function convertToInteractive(key) {\n",
              "        const element = document.querySelector('#df-0667939e-75dd-41c4-91c2-b8d3a1915fa5');\n",
              "        const dataTable =\n",
              "          await google.colab.kernel.invokeFunction('convertToInteractive',\n",
              "                                                    [key], {});\n",
              "        if (!dataTable) return;\n",
              "\n",
              "        const docLinkHtml = 'Like what you see? Visit the ' +\n",
              "          '<a target=\"_blank\" href=https://colab.research.google.com/notebooks/data_table.ipynb>data table notebook</a>'\n",
              "          + ' to learn more about interactive tables.';\n",
              "        element.innerHTML = '';\n",
              "        dataTable['output_type'] = 'display_data';\n",
              "        await google.colab.output.renderOutput(dataTable, element);\n",
              "        const docLink = document.createElement('div');\n",
              "        docLink.innerHTML = docLinkHtml;\n",
              "        element.appendChild(docLink);\n",
              "      }\n",
              "    </script>\n",
              "  </div>\n",
              "\n",
              "\n",
              "    <div id=\"df-101ba2a8-eb96-4868-8f06-9f1c1e848c71\">\n",
              "      <button class=\"colab-df-quickchart\" onclick=\"quickchart('df-101ba2a8-eb96-4868-8f06-9f1c1e848c71')\"\n",
              "                title=\"Suggest charts\"\n",
              "                style=\"display:none;\">\n",
              "\n",
              "<svg xmlns=\"http://www.w3.org/2000/svg\" height=\"24px\"viewBox=\"0 0 24 24\"\n",
              "     width=\"24px\">\n",
              "    <g>\n",
              "        <path d=\"M19 3H5c-1.1 0-2 .9-2 2v14c0 1.1.9 2 2 2h14c1.1 0 2-.9 2-2V5c0-1.1-.9-2-2-2zM9 17H7v-7h2v7zm4 0h-2V7h2v10zm4 0h-2v-4h2v4z\"/>\n",
              "    </g>\n",
              "</svg>\n",
              "      </button>\n",
              "\n",
              "<style>\n",
              "  .colab-df-quickchart {\n",
              "      --bg-color: #E8F0FE;\n",
              "      --fill-color: #1967D2;\n",
              "      --hover-bg-color: #E2EBFA;\n",
              "      --hover-fill-color: #174EA6;\n",
              "      --disabled-fill-color: #AAA;\n",
              "      --disabled-bg-color: #DDD;\n",
              "  }\n",
              "\n",
              "  [theme=dark] .colab-df-quickchart {\n",
              "      --bg-color: #3B4455;\n",
              "      --fill-color: #D2E3FC;\n",
              "      --hover-bg-color: #434B5C;\n",
              "      --hover-fill-color: #FFFFFF;\n",
              "      --disabled-bg-color: #3B4455;\n",
              "      --disabled-fill-color: #666;\n",
              "  }\n",
              "\n",
              "  .colab-df-quickchart {\n",
              "    background-color: var(--bg-color);\n",
              "    border: none;\n",
              "    border-radius: 50%;\n",
              "    cursor: pointer;\n",
              "    display: none;\n",
              "    fill: var(--fill-color);\n",
              "    height: 32px;\n",
              "    padding: 0;\n",
              "    width: 32px;\n",
              "  }\n",
              "\n",
              "  .colab-df-quickchart:hover {\n",
              "    background-color: var(--hover-bg-color);\n",
              "    box-shadow: 0 1px 2px rgba(60, 64, 67, 0.3), 0 1px 3px 1px rgba(60, 64, 67, 0.15);\n",
              "    fill: var(--button-hover-fill-color);\n",
              "  }\n",
              "\n",
              "  .colab-df-quickchart-complete:disabled,\n",
              "  .colab-df-quickchart-complete:disabled:hover {\n",
              "    background-color: var(--disabled-bg-color);\n",
              "    fill: var(--disabled-fill-color);\n",
              "    box-shadow: none;\n",
              "  }\n",
              "\n",
              "  .colab-df-spinner {\n",
              "    border: 2px solid var(--fill-color);\n",
              "    border-color: transparent;\n",
              "    border-bottom-color: var(--fill-color);\n",
              "    animation:\n",
              "      spin 1s steps(1) infinite;\n",
              "  }\n",
              "\n",
              "  @keyframes spin {\n",
              "    0% {\n",
              "      border-color: transparent;\n",
              "      border-bottom-color: var(--fill-color);\n",
              "      border-left-color: var(--fill-color);\n",
              "    }\n",
              "    20% {\n",
              "      border-color: transparent;\n",
              "      border-left-color: var(--fill-color);\n",
              "      border-top-color: var(--fill-color);\n",
              "    }\n",
              "    30% {\n",
              "      border-color: transparent;\n",
              "      border-left-color: var(--fill-color);\n",
              "      border-top-color: var(--fill-color);\n",
              "      border-right-color: var(--fill-color);\n",
              "    }\n",
              "    40% {\n",
              "      border-color: transparent;\n",
              "      border-right-color: var(--fill-color);\n",
              "      border-top-color: var(--fill-color);\n",
              "    }\n",
              "    60% {\n",
              "      border-color: transparent;\n",
              "      border-right-color: var(--fill-color);\n",
              "    }\n",
              "    80% {\n",
              "      border-color: transparent;\n",
              "      border-right-color: var(--fill-color);\n",
              "      border-bottom-color: var(--fill-color);\n",
              "    }\n",
              "    90% {\n",
              "      border-color: transparent;\n",
              "      border-bottom-color: var(--fill-color);\n",
              "    }\n",
              "  }\n",
              "</style>\n",
              "\n",
              "      <script>\n",
              "        async function quickchart(key) {\n",
              "          const quickchartButtonEl =\n",
              "            document.querySelector('#' + key + ' button');\n",
              "          quickchartButtonEl.disabled = true;  // To prevent multiple clicks.\n",
              "          quickchartButtonEl.classList.add('colab-df-spinner');\n",
              "          try {\n",
              "            const charts = await google.colab.kernel.invokeFunction(\n",
              "                'suggestCharts', [key], {});\n",
              "          } catch (error) {\n",
              "            console.error('Error during call to suggestCharts:', error);\n",
              "          }\n",
              "          quickchartButtonEl.classList.remove('colab-df-spinner');\n",
              "          quickchartButtonEl.classList.add('colab-df-quickchart-complete');\n",
              "        }\n",
              "        (() => {\n",
              "          let quickchartButtonEl =\n",
              "            document.querySelector('#df-101ba2a8-eb96-4868-8f06-9f1c1e848c71 button');\n",
              "          quickchartButtonEl.style.display =\n",
              "            google.colab.kernel.accessAllowed ? 'block' : 'none';\n",
              "        })();\n",
              "      </script>\n",
              "    </div>\n",
              "\n",
              "  <div id=\"id_d5f1593c-2793-4147-a9c9-c8df8356c48c\">\n",
              "    <style>\n",
              "      .colab-df-generate {\n",
              "        background-color: #E8F0FE;\n",
              "        border: none;\n",
              "        border-radius: 50%;\n",
              "        cursor: pointer;\n",
              "        display: none;\n",
              "        fill: #1967D2;\n",
              "        height: 32px;\n",
              "        padding: 0 0 0 0;\n",
              "        width: 32px;\n",
              "      }\n",
              "\n",
              "      .colab-df-generate:hover {\n",
              "        background-color: #E2EBFA;\n",
              "        box-shadow: 0px 1px 2px rgba(60, 64, 67, 0.3), 0px 1px 3px 1px rgba(60, 64, 67, 0.15);\n",
              "        fill: #174EA6;\n",
              "      }\n",
              "\n",
              "      [theme=dark] .colab-df-generate {\n",
              "        background-color: #3B4455;\n",
              "        fill: #D2E3FC;\n",
              "      }\n",
              "\n",
              "      [theme=dark] .colab-df-generate:hover {\n",
              "        background-color: #434B5C;\n",
              "        box-shadow: 0px 1px 3px 1px rgba(0, 0, 0, 0.15);\n",
              "        filter: drop-shadow(0px 1px 2px rgba(0, 0, 0, 0.3));\n",
              "        fill: #FFFFFF;\n",
              "      }\n",
              "    </style>\n",
              "    <button class=\"colab-df-generate\" onclick=\"generateWithVariable('notas')\"\n",
              "            title=\"Generate code using this dataframe.\"\n",
              "            style=\"display:none;\">\n",
              "\n",
              "  <svg xmlns=\"http://www.w3.org/2000/svg\" height=\"24px\"viewBox=\"0 0 24 24\"\n",
              "       width=\"24px\">\n",
              "    <path d=\"M7,19H8.4L18.45,9,17,7.55,7,17.6ZM5,21V16.75L18.45,3.32a2,2,0,0,1,2.83,0l1.4,1.43a1.91,1.91,0,0,1,.58,1.4,1.91,1.91,0,0,1-.58,1.4L9.25,21ZM18.45,9,17,7.55Zm-12,3A5.31,5.31,0,0,0,4.9,8.1,5.31,5.31,0,0,0,1,6.5,5.31,5.31,0,0,0,4.9,4.9,5.31,5.31,0,0,0,6.5,1,5.31,5.31,0,0,0,8.1,4.9,5.31,5.31,0,0,0,12,6.5,5.46,5.46,0,0,0,6.5,12Z\"/>\n",
              "  </svg>\n",
              "    </button>\n",
              "    <script>\n",
              "      (() => {\n",
              "      const buttonEl =\n",
              "        document.querySelector('#id_d5f1593c-2793-4147-a9c9-c8df8356c48c button.colab-df-generate');\n",
              "      buttonEl.style.display =\n",
              "        google.colab.kernel.accessAllowed ? 'block' : 'none';\n",
              "\n",
              "      buttonEl.onclick = () => {\n",
              "        google.colab.notebook.generateWithVariable('notas');\n",
              "      }\n",
              "      })();\n",
              "    </script>\n",
              "  </div>\n",
              "\n",
              "    </div>\n",
              "  </div>\n"
            ],
            "application/vnd.google.colaboratory.intrinsic+json": {
              "type": "dataframe",
              "variable_name": "notas"
            }
          },
          "metadata": {},
          "execution_count": 36
        }
      ]
    },
    {
      "cell_type": "code",
      "source": [
        "notas.shape #formato linhas por coluna"
      ],
      "metadata": {
        "colab": {
          "base_uri": "https://localhost:8080/"
        },
        "id": "AtwXt8Dv4lMH",
        "outputId": "de7ad37d-c9f9-4f6c-ad9e-ed5eb3f2d796"
      },
      "execution_count": 37,
      "outputs": [
        {
          "output_type": "execute_result",
          "data": {
            "text/plain": [
              "(100836, 4)"
            ]
          },
          "metadata": {},
          "execution_count": 37
        }
      ]
    },
    {
      "cell_type": "code",
      "source": [
        "notas.columns #trás o nome das colunas"
      ],
      "metadata": {
        "colab": {
          "base_uri": "https://localhost:8080/"
        },
        "id": "kl4CrUt244Fc",
        "outputId": "7177e407-cb8a-43c7-9d37-651ad7e4aa36"
      },
      "execution_count": 38,
      "outputs": [
        {
          "output_type": "execute_result",
          "data": {
            "text/plain": [
              "Index(['userId', 'movieId', 'rating', 'timestamp'], dtype='object')"
            ]
          },
          "metadata": {},
          "execution_count": 38
        }
      ]
    },
    {
      "cell_type": "code",
      "source": [
        "notas.columns = ['usuuarioId', 'filmeId', 'notas', 'momento']\n",
        "notas"
      ],
      "metadata": {
        "colab": {
          "base_uri": "https://localhost:8080/",
          "height": 424
        },
        "id": "ES9gzn3b5DPX",
        "outputId": "2545aab5-eb33-4b39-c303-0e4245dc2315"
      },
      "execution_count": 39,
      "outputs": [
        {
          "output_type": "execute_result",
          "data": {
            "text/plain": [
              "        usuuarioId  filmeId  notas     momento\n",
              "0                1        1    4.0   964982703\n",
              "1                1        3    4.0   964981247\n",
              "2                1        6    4.0   964982224\n",
              "3                1       47    5.0   964983815\n",
              "4                1       50    5.0   964982931\n",
              "...            ...      ...    ...         ...\n",
              "100831         610   166534    4.0  1493848402\n",
              "100832         610   168248    5.0  1493850091\n",
              "100833         610   168250    5.0  1494273047\n",
              "100834         610   168252    5.0  1493846352\n",
              "100835         610   170875    3.0  1493846415\n",
              "\n",
              "[100836 rows x 4 columns]"
            ],
            "text/html": [
              "\n",
              "  <div id=\"df-e76c5ed4-086c-4221-9f1b-db3aacc06b2e\" class=\"colab-df-container\">\n",
              "    <div>\n",
              "<style scoped>\n",
              "    .dataframe tbody tr th:only-of-type {\n",
              "        vertical-align: middle;\n",
              "    }\n",
              "\n",
              "    .dataframe tbody tr th {\n",
              "        vertical-align: top;\n",
              "    }\n",
              "\n",
              "    .dataframe thead th {\n",
              "        text-align: right;\n",
              "    }\n",
              "</style>\n",
              "<table border=\"1\" class=\"dataframe\">\n",
              "  <thead>\n",
              "    <tr style=\"text-align: right;\">\n",
              "      <th></th>\n",
              "      <th>usuuarioId</th>\n",
              "      <th>filmeId</th>\n",
              "      <th>notas</th>\n",
              "      <th>momento</th>\n",
              "    </tr>\n",
              "  </thead>\n",
              "  <tbody>\n",
              "    <tr>\n",
              "      <th>0</th>\n",
              "      <td>1</td>\n",
              "      <td>1</td>\n",
              "      <td>4.0</td>\n",
              "      <td>964982703</td>\n",
              "    </tr>\n",
              "    <tr>\n",
              "      <th>1</th>\n",
              "      <td>1</td>\n",
              "      <td>3</td>\n",
              "      <td>4.0</td>\n",
              "      <td>964981247</td>\n",
              "    </tr>\n",
              "    <tr>\n",
              "      <th>2</th>\n",
              "      <td>1</td>\n",
              "      <td>6</td>\n",
              "      <td>4.0</td>\n",
              "      <td>964982224</td>\n",
              "    </tr>\n",
              "    <tr>\n",
              "      <th>3</th>\n",
              "      <td>1</td>\n",
              "      <td>47</td>\n",
              "      <td>5.0</td>\n",
              "      <td>964983815</td>\n",
              "    </tr>\n",
              "    <tr>\n",
              "      <th>4</th>\n",
              "      <td>1</td>\n",
              "      <td>50</td>\n",
              "      <td>5.0</td>\n",
              "      <td>964982931</td>\n",
              "    </tr>\n",
              "    <tr>\n",
              "      <th>...</th>\n",
              "      <td>...</td>\n",
              "      <td>...</td>\n",
              "      <td>...</td>\n",
              "      <td>...</td>\n",
              "    </tr>\n",
              "    <tr>\n",
              "      <th>100831</th>\n",
              "      <td>610</td>\n",
              "      <td>166534</td>\n",
              "      <td>4.0</td>\n",
              "      <td>1493848402</td>\n",
              "    </tr>\n",
              "    <tr>\n",
              "      <th>100832</th>\n",
              "      <td>610</td>\n",
              "      <td>168248</td>\n",
              "      <td>5.0</td>\n",
              "      <td>1493850091</td>\n",
              "    </tr>\n",
              "    <tr>\n",
              "      <th>100833</th>\n",
              "      <td>610</td>\n",
              "      <td>168250</td>\n",
              "      <td>5.0</td>\n",
              "      <td>1494273047</td>\n",
              "    </tr>\n",
              "    <tr>\n",
              "      <th>100834</th>\n",
              "      <td>610</td>\n",
              "      <td>168252</td>\n",
              "      <td>5.0</td>\n",
              "      <td>1493846352</td>\n",
              "    </tr>\n",
              "    <tr>\n",
              "      <th>100835</th>\n",
              "      <td>610</td>\n",
              "      <td>170875</td>\n",
              "      <td>3.0</td>\n",
              "      <td>1493846415</td>\n",
              "    </tr>\n",
              "  </tbody>\n",
              "</table>\n",
              "<p>100836 rows × 4 columns</p>\n",
              "</div>\n",
              "    <div class=\"colab-df-buttons\">\n",
              "\n",
              "  <div class=\"colab-df-container\">\n",
              "    <button class=\"colab-df-convert\" onclick=\"convertToInteractive('df-e76c5ed4-086c-4221-9f1b-db3aacc06b2e')\"\n",
              "            title=\"Convert this dataframe to an interactive table.\"\n",
              "            style=\"display:none;\">\n",
              "\n",
              "  <svg xmlns=\"http://www.w3.org/2000/svg\" height=\"24px\" viewBox=\"0 -960 960 960\">\n",
              "    <path d=\"M120-120v-720h720v720H120Zm60-500h600v-160H180v160Zm220 220h160v-160H400v160Zm0 220h160v-160H400v160ZM180-400h160v-160H180v160Zm440 0h160v-160H620v160ZM180-180h160v-160H180v160Zm440 0h160v-160H620v160Z\"/>\n",
              "  </svg>\n",
              "    </button>\n",
              "\n",
              "  <style>\n",
              "    .colab-df-container {\n",
              "      display:flex;\n",
              "      gap: 12px;\n",
              "    }\n",
              "\n",
              "    .colab-df-convert {\n",
              "      background-color: #E8F0FE;\n",
              "      border: none;\n",
              "      border-radius: 50%;\n",
              "      cursor: pointer;\n",
              "      display: none;\n",
              "      fill: #1967D2;\n",
              "      height: 32px;\n",
              "      padding: 0 0 0 0;\n",
              "      width: 32px;\n",
              "    }\n",
              "\n",
              "    .colab-df-convert:hover {\n",
              "      background-color: #E2EBFA;\n",
              "      box-shadow: 0px 1px 2px rgba(60, 64, 67, 0.3), 0px 1px 3px 1px rgba(60, 64, 67, 0.15);\n",
              "      fill: #174EA6;\n",
              "    }\n",
              "\n",
              "    .colab-df-buttons div {\n",
              "      margin-bottom: 4px;\n",
              "    }\n",
              "\n",
              "    [theme=dark] .colab-df-convert {\n",
              "      background-color: #3B4455;\n",
              "      fill: #D2E3FC;\n",
              "    }\n",
              "\n",
              "    [theme=dark] .colab-df-convert:hover {\n",
              "      background-color: #434B5C;\n",
              "      box-shadow: 0px 1px 3px 1px rgba(0, 0, 0, 0.15);\n",
              "      filter: drop-shadow(0px 1px 2px rgba(0, 0, 0, 0.3));\n",
              "      fill: #FFFFFF;\n",
              "    }\n",
              "  </style>\n",
              "\n",
              "    <script>\n",
              "      const buttonEl =\n",
              "        document.querySelector('#df-e76c5ed4-086c-4221-9f1b-db3aacc06b2e button.colab-df-convert');\n",
              "      buttonEl.style.display =\n",
              "        google.colab.kernel.accessAllowed ? 'block' : 'none';\n",
              "\n",
              "      async function convertToInteractive(key) {\n",
              "        const element = document.querySelector('#df-e76c5ed4-086c-4221-9f1b-db3aacc06b2e');\n",
              "        const dataTable =\n",
              "          await google.colab.kernel.invokeFunction('convertToInteractive',\n",
              "                                                    [key], {});\n",
              "        if (!dataTable) return;\n",
              "\n",
              "        const docLinkHtml = 'Like what you see? Visit the ' +\n",
              "          '<a target=\"_blank\" href=https://colab.research.google.com/notebooks/data_table.ipynb>data table notebook</a>'\n",
              "          + ' to learn more about interactive tables.';\n",
              "        element.innerHTML = '';\n",
              "        dataTable['output_type'] = 'display_data';\n",
              "        await google.colab.output.renderOutput(dataTable, element);\n",
              "        const docLink = document.createElement('div');\n",
              "        docLink.innerHTML = docLinkHtml;\n",
              "        element.appendChild(docLink);\n",
              "      }\n",
              "    </script>\n",
              "  </div>\n",
              "\n",
              "\n",
              "    <div id=\"df-2d7e53b2-3435-4b4e-bf00-6fd744342c22\">\n",
              "      <button class=\"colab-df-quickchart\" onclick=\"quickchart('df-2d7e53b2-3435-4b4e-bf00-6fd744342c22')\"\n",
              "                title=\"Suggest charts\"\n",
              "                style=\"display:none;\">\n",
              "\n",
              "<svg xmlns=\"http://www.w3.org/2000/svg\" height=\"24px\"viewBox=\"0 0 24 24\"\n",
              "     width=\"24px\">\n",
              "    <g>\n",
              "        <path d=\"M19 3H5c-1.1 0-2 .9-2 2v14c0 1.1.9 2 2 2h14c1.1 0 2-.9 2-2V5c0-1.1-.9-2-2-2zM9 17H7v-7h2v7zm4 0h-2V7h2v10zm4 0h-2v-4h2v4z\"/>\n",
              "    </g>\n",
              "</svg>\n",
              "      </button>\n",
              "\n",
              "<style>\n",
              "  .colab-df-quickchart {\n",
              "      --bg-color: #E8F0FE;\n",
              "      --fill-color: #1967D2;\n",
              "      --hover-bg-color: #E2EBFA;\n",
              "      --hover-fill-color: #174EA6;\n",
              "      --disabled-fill-color: #AAA;\n",
              "      --disabled-bg-color: #DDD;\n",
              "  }\n",
              "\n",
              "  [theme=dark] .colab-df-quickchart {\n",
              "      --bg-color: #3B4455;\n",
              "      --fill-color: #D2E3FC;\n",
              "      --hover-bg-color: #434B5C;\n",
              "      --hover-fill-color: #FFFFFF;\n",
              "      --disabled-bg-color: #3B4455;\n",
              "      --disabled-fill-color: #666;\n",
              "  }\n",
              "\n",
              "  .colab-df-quickchart {\n",
              "    background-color: var(--bg-color);\n",
              "    border: none;\n",
              "    border-radius: 50%;\n",
              "    cursor: pointer;\n",
              "    display: none;\n",
              "    fill: var(--fill-color);\n",
              "    height: 32px;\n",
              "    padding: 0;\n",
              "    width: 32px;\n",
              "  }\n",
              "\n",
              "  .colab-df-quickchart:hover {\n",
              "    background-color: var(--hover-bg-color);\n",
              "    box-shadow: 0 1px 2px rgba(60, 64, 67, 0.3), 0 1px 3px 1px rgba(60, 64, 67, 0.15);\n",
              "    fill: var(--button-hover-fill-color);\n",
              "  }\n",
              "\n",
              "  .colab-df-quickchart-complete:disabled,\n",
              "  .colab-df-quickchart-complete:disabled:hover {\n",
              "    background-color: var(--disabled-bg-color);\n",
              "    fill: var(--disabled-fill-color);\n",
              "    box-shadow: none;\n",
              "  }\n",
              "\n",
              "  .colab-df-spinner {\n",
              "    border: 2px solid var(--fill-color);\n",
              "    border-color: transparent;\n",
              "    border-bottom-color: var(--fill-color);\n",
              "    animation:\n",
              "      spin 1s steps(1) infinite;\n",
              "  }\n",
              "\n",
              "  @keyframes spin {\n",
              "    0% {\n",
              "      border-color: transparent;\n",
              "      border-bottom-color: var(--fill-color);\n",
              "      border-left-color: var(--fill-color);\n",
              "    }\n",
              "    20% {\n",
              "      border-color: transparent;\n",
              "      border-left-color: var(--fill-color);\n",
              "      border-top-color: var(--fill-color);\n",
              "    }\n",
              "    30% {\n",
              "      border-color: transparent;\n",
              "      border-left-color: var(--fill-color);\n",
              "      border-top-color: var(--fill-color);\n",
              "      border-right-color: var(--fill-color);\n",
              "    }\n",
              "    40% {\n",
              "      border-color: transparent;\n",
              "      border-right-color: var(--fill-color);\n",
              "      border-top-color: var(--fill-color);\n",
              "    }\n",
              "    60% {\n",
              "      border-color: transparent;\n",
              "      border-right-color: var(--fill-color);\n",
              "    }\n",
              "    80% {\n",
              "      border-color: transparent;\n",
              "      border-right-color: var(--fill-color);\n",
              "      border-bottom-color: var(--fill-color);\n",
              "    }\n",
              "    90% {\n",
              "      border-color: transparent;\n",
              "      border-bottom-color: var(--fill-color);\n",
              "    }\n",
              "  }\n",
              "</style>\n",
              "\n",
              "      <script>\n",
              "        async function quickchart(key) {\n",
              "          const quickchartButtonEl =\n",
              "            document.querySelector('#' + key + ' button');\n",
              "          quickchartButtonEl.disabled = true;  // To prevent multiple clicks.\n",
              "          quickchartButtonEl.classList.add('colab-df-spinner');\n",
              "          try {\n",
              "            const charts = await google.colab.kernel.invokeFunction(\n",
              "                'suggestCharts', [key], {});\n",
              "          } catch (error) {\n",
              "            console.error('Error during call to suggestCharts:', error);\n",
              "          }\n",
              "          quickchartButtonEl.classList.remove('colab-df-spinner');\n",
              "          quickchartButtonEl.classList.add('colab-df-quickchart-complete');\n",
              "        }\n",
              "        (() => {\n",
              "          let quickchartButtonEl =\n",
              "            document.querySelector('#df-2d7e53b2-3435-4b4e-bf00-6fd744342c22 button');\n",
              "          quickchartButtonEl.style.display =\n",
              "            google.colab.kernel.accessAllowed ? 'block' : 'none';\n",
              "        })();\n",
              "      </script>\n",
              "    </div>\n",
              "\n",
              "  <div id=\"id_9b86ab54-6819-4a06-a9cd-36d181a35e61\">\n",
              "    <style>\n",
              "      .colab-df-generate {\n",
              "        background-color: #E8F0FE;\n",
              "        border: none;\n",
              "        border-radius: 50%;\n",
              "        cursor: pointer;\n",
              "        display: none;\n",
              "        fill: #1967D2;\n",
              "        height: 32px;\n",
              "        padding: 0 0 0 0;\n",
              "        width: 32px;\n",
              "      }\n",
              "\n",
              "      .colab-df-generate:hover {\n",
              "        background-color: #E2EBFA;\n",
              "        box-shadow: 0px 1px 2px rgba(60, 64, 67, 0.3), 0px 1px 3px 1px rgba(60, 64, 67, 0.15);\n",
              "        fill: #174EA6;\n",
              "      }\n",
              "\n",
              "      [theme=dark] .colab-df-generate {\n",
              "        background-color: #3B4455;\n",
              "        fill: #D2E3FC;\n",
              "      }\n",
              "\n",
              "      [theme=dark] .colab-df-generate:hover {\n",
              "        background-color: #434B5C;\n",
              "        box-shadow: 0px 1px 3px 1px rgba(0, 0, 0, 0.15);\n",
              "        filter: drop-shadow(0px 1px 2px rgba(0, 0, 0, 0.3));\n",
              "        fill: #FFFFFF;\n",
              "      }\n",
              "    </style>\n",
              "    <button class=\"colab-df-generate\" onclick=\"generateWithVariable('notas')\"\n",
              "            title=\"Generate code using this dataframe.\"\n",
              "            style=\"display:none;\">\n",
              "\n",
              "  <svg xmlns=\"http://www.w3.org/2000/svg\" height=\"24px\"viewBox=\"0 0 24 24\"\n",
              "       width=\"24px\">\n",
              "    <path d=\"M7,19H8.4L18.45,9,17,7.55,7,17.6ZM5,21V16.75L18.45,3.32a2,2,0,0,1,2.83,0l1.4,1.43a1.91,1.91,0,0,1,.58,1.4,1.91,1.91,0,0,1-.58,1.4L9.25,21ZM18.45,9,17,7.55Zm-12,3A5.31,5.31,0,0,0,4.9,8.1,5.31,5.31,0,0,0,1,6.5,5.31,5.31,0,0,0,4.9,4.9,5.31,5.31,0,0,0,6.5,1,5.31,5.31,0,0,0,8.1,4.9,5.31,5.31,0,0,0,12,6.5,5.46,5.46,0,0,0,6.5,12Z\"/>\n",
              "  </svg>\n",
              "    </button>\n",
              "    <script>\n",
              "      (() => {\n",
              "      const buttonEl =\n",
              "        document.querySelector('#id_9b86ab54-6819-4a06-a9cd-36d181a35e61 button.colab-df-generate');\n",
              "      buttonEl.style.display =\n",
              "        google.colab.kernel.accessAllowed ? 'block' : 'none';\n",
              "\n",
              "      buttonEl.onclick = () => {\n",
              "        google.colab.notebook.generateWithVariable('notas');\n",
              "      }\n",
              "      })();\n",
              "    </script>\n",
              "  </div>\n",
              "\n",
              "    </div>\n",
              "  </div>\n"
            ],
            "application/vnd.google.colaboratory.intrinsic+json": {
              "type": "dataframe",
              "variable_name": "notas"
            }
          },
          "metadata": {},
          "execution_count": 39
        }
      ]
    },
    {
      "cell_type": "code",
      "source": [
        "notas.columns = ['usuuarioId', 'filmeId', 'nota', 'momento']\n",
        "notas.head () #as primeiras linhas"
      ],
      "metadata": {
        "colab": {
          "base_uri": "https://localhost:8080/",
          "height": 206
        },
        "id": "JuThPo1a5dy_",
        "outputId": "bfc31268-3ff8-4ea1-9f15-d6529a221326"
      },
      "execution_count": 40,
      "outputs": [
        {
          "output_type": "execute_result",
          "data": {
            "text/plain": [
              "   usuuarioId  filmeId  nota    momento\n",
              "0           1        1   4.0  964982703\n",
              "1           1        3   4.0  964981247\n",
              "2           1        6   4.0  964982224\n",
              "3           1       47   5.0  964983815\n",
              "4           1       50   5.0  964982931"
            ],
            "text/html": [
              "\n",
              "  <div id=\"df-101a57a2-ad16-4fb6-92c6-5394e10b3a7e\" class=\"colab-df-container\">\n",
              "    <div>\n",
              "<style scoped>\n",
              "    .dataframe tbody tr th:only-of-type {\n",
              "        vertical-align: middle;\n",
              "    }\n",
              "\n",
              "    .dataframe tbody tr th {\n",
              "        vertical-align: top;\n",
              "    }\n",
              "\n",
              "    .dataframe thead th {\n",
              "        text-align: right;\n",
              "    }\n",
              "</style>\n",
              "<table border=\"1\" class=\"dataframe\">\n",
              "  <thead>\n",
              "    <tr style=\"text-align: right;\">\n",
              "      <th></th>\n",
              "      <th>usuuarioId</th>\n",
              "      <th>filmeId</th>\n",
              "      <th>nota</th>\n",
              "      <th>momento</th>\n",
              "    </tr>\n",
              "  </thead>\n",
              "  <tbody>\n",
              "    <tr>\n",
              "      <th>0</th>\n",
              "      <td>1</td>\n",
              "      <td>1</td>\n",
              "      <td>4.0</td>\n",
              "      <td>964982703</td>\n",
              "    </tr>\n",
              "    <tr>\n",
              "      <th>1</th>\n",
              "      <td>1</td>\n",
              "      <td>3</td>\n",
              "      <td>4.0</td>\n",
              "      <td>964981247</td>\n",
              "    </tr>\n",
              "    <tr>\n",
              "      <th>2</th>\n",
              "      <td>1</td>\n",
              "      <td>6</td>\n",
              "      <td>4.0</td>\n",
              "      <td>964982224</td>\n",
              "    </tr>\n",
              "    <tr>\n",
              "      <th>3</th>\n",
              "      <td>1</td>\n",
              "      <td>47</td>\n",
              "      <td>5.0</td>\n",
              "      <td>964983815</td>\n",
              "    </tr>\n",
              "    <tr>\n",
              "      <th>4</th>\n",
              "      <td>1</td>\n",
              "      <td>50</td>\n",
              "      <td>5.0</td>\n",
              "      <td>964982931</td>\n",
              "    </tr>\n",
              "  </tbody>\n",
              "</table>\n",
              "</div>\n",
              "    <div class=\"colab-df-buttons\">\n",
              "\n",
              "  <div class=\"colab-df-container\">\n",
              "    <button class=\"colab-df-convert\" onclick=\"convertToInteractive('df-101a57a2-ad16-4fb6-92c6-5394e10b3a7e')\"\n",
              "            title=\"Convert this dataframe to an interactive table.\"\n",
              "            style=\"display:none;\">\n",
              "\n",
              "  <svg xmlns=\"http://www.w3.org/2000/svg\" height=\"24px\" viewBox=\"0 -960 960 960\">\n",
              "    <path d=\"M120-120v-720h720v720H120Zm60-500h600v-160H180v160Zm220 220h160v-160H400v160Zm0 220h160v-160H400v160ZM180-400h160v-160H180v160Zm440 0h160v-160H620v160ZM180-180h160v-160H180v160Zm440 0h160v-160H620v160Z\"/>\n",
              "  </svg>\n",
              "    </button>\n",
              "\n",
              "  <style>\n",
              "    .colab-df-container {\n",
              "      display:flex;\n",
              "      gap: 12px;\n",
              "    }\n",
              "\n",
              "    .colab-df-convert {\n",
              "      background-color: #E8F0FE;\n",
              "      border: none;\n",
              "      border-radius: 50%;\n",
              "      cursor: pointer;\n",
              "      display: none;\n",
              "      fill: #1967D2;\n",
              "      height: 32px;\n",
              "      padding: 0 0 0 0;\n",
              "      width: 32px;\n",
              "    }\n",
              "\n",
              "    .colab-df-convert:hover {\n",
              "      background-color: #E2EBFA;\n",
              "      box-shadow: 0px 1px 2px rgba(60, 64, 67, 0.3), 0px 1px 3px 1px rgba(60, 64, 67, 0.15);\n",
              "      fill: #174EA6;\n",
              "    }\n",
              "\n",
              "    .colab-df-buttons div {\n",
              "      margin-bottom: 4px;\n",
              "    }\n",
              "\n",
              "    [theme=dark] .colab-df-convert {\n",
              "      background-color: #3B4455;\n",
              "      fill: #D2E3FC;\n",
              "    }\n",
              "\n",
              "    [theme=dark] .colab-df-convert:hover {\n",
              "      background-color: #434B5C;\n",
              "      box-shadow: 0px 1px 3px 1px rgba(0, 0, 0, 0.15);\n",
              "      filter: drop-shadow(0px 1px 2px rgba(0, 0, 0, 0.3));\n",
              "      fill: #FFFFFF;\n",
              "    }\n",
              "  </style>\n",
              "\n",
              "    <script>\n",
              "      const buttonEl =\n",
              "        document.querySelector('#df-101a57a2-ad16-4fb6-92c6-5394e10b3a7e button.colab-df-convert');\n",
              "      buttonEl.style.display =\n",
              "        google.colab.kernel.accessAllowed ? 'block' : 'none';\n",
              "\n",
              "      async function convertToInteractive(key) {\n",
              "        const element = document.querySelector('#df-101a57a2-ad16-4fb6-92c6-5394e10b3a7e');\n",
              "        const dataTable =\n",
              "          await google.colab.kernel.invokeFunction('convertToInteractive',\n",
              "                                                    [key], {});\n",
              "        if (!dataTable) return;\n",
              "\n",
              "        const docLinkHtml = 'Like what you see? Visit the ' +\n",
              "          '<a target=\"_blank\" href=https://colab.research.google.com/notebooks/data_table.ipynb>data table notebook</a>'\n",
              "          + ' to learn more about interactive tables.';\n",
              "        element.innerHTML = '';\n",
              "        dataTable['output_type'] = 'display_data';\n",
              "        await google.colab.output.renderOutput(dataTable, element);\n",
              "        const docLink = document.createElement('div');\n",
              "        docLink.innerHTML = docLinkHtml;\n",
              "        element.appendChild(docLink);\n",
              "      }\n",
              "    </script>\n",
              "  </div>\n",
              "\n",
              "\n",
              "    <div id=\"df-17345e5e-e483-4a1a-a77d-1a59f3e412cb\">\n",
              "      <button class=\"colab-df-quickchart\" onclick=\"quickchart('df-17345e5e-e483-4a1a-a77d-1a59f3e412cb')\"\n",
              "                title=\"Suggest charts\"\n",
              "                style=\"display:none;\">\n",
              "\n",
              "<svg xmlns=\"http://www.w3.org/2000/svg\" height=\"24px\"viewBox=\"0 0 24 24\"\n",
              "     width=\"24px\">\n",
              "    <g>\n",
              "        <path d=\"M19 3H5c-1.1 0-2 .9-2 2v14c0 1.1.9 2 2 2h14c1.1 0 2-.9 2-2V5c0-1.1-.9-2-2-2zM9 17H7v-7h2v7zm4 0h-2V7h2v10zm4 0h-2v-4h2v4z\"/>\n",
              "    </g>\n",
              "</svg>\n",
              "      </button>\n",
              "\n",
              "<style>\n",
              "  .colab-df-quickchart {\n",
              "      --bg-color: #E8F0FE;\n",
              "      --fill-color: #1967D2;\n",
              "      --hover-bg-color: #E2EBFA;\n",
              "      --hover-fill-color: #174EA6;\n",
              "      --disabled-fill-color: #AAA;\n",
              "      --disabled-bg-color: #DDD;\n",
              "  }\n",
              "\n",
              "  [theme=dark] .colab-df-quickchart {\n",
              "      --bg-color: #3B4455;\n",
              "      --fill-color: #D2E3FC;\n",
              "      --hover-bg-color: #434B5C;\n",
              "      --hover-fill-color: #FFFFFF;\n",
              "      --disabled-bg-color: #3B4455;\n",
              "      --disabled-fill-color: #666;\n",
              "  }\n",
              "\n",
              "  .colab-df-quickchart {\n",
              "    background-color: var(--bg-color);\n",
              "    border: none;\n",
              "    border-radius: 50%;\n",
              "    cursor: pointer;\n",
              "    display: none;\n",
              "    fill: var(--fill-color);\n",
              "    height: 32px;\n",
              "    padding: 0;\n",
              "    width: 32px;\n",
              "  }\n",
              "\n",
              "  .colab-df-quickchart:hover {\n",
              "    background-color: var(--hover-bg-color);\n",
              "    box-shadow: 0 1px 2px rgba(60, 64, 67, 0.3), 0 1px 3px 1px rgba(60, 64, 67, 0.15);\n",
              "    fill: var(--button-hover-fill-color);\n",
              "  }\n",
              "\n",
              "  .colab-df-quickchart-complete:disabled,\n",
              "  .colab-df-quickchart-complete:disabled:hover {\n",
              "    background-color: var(--disabled-bg-color);\n",
              "    fill: var(--disabled-fill-color);\n",
              "    box-shadow: none;\n",
              "  }\n",
              "\n",
              "  .colab-df-spinner {\n",
              "    border: 2px solid var(--fill-color);\n",
              "    border-color: transparent;\n",
              "    border-bottom-color: var(--fill-color);\n",
              "    animation:\n",
              "      spin 1s steps(1) infinite;\n",
              "  }\n",
              "\n",
              "  @keyframes spin {\n",
              "    0% {\n",
              "      border-color: transparent;\n",
              "      border-bottom-color: var(--fill-color);\n",
              "      border-left-color: var(--fill-color);\n",
              "    }\n",
              "    20% {\n",
              "      border-color: transparent;\n",
              "      border-left-color: var(--fill-color);\n",
              "      border-top-color: var(--fill-color);\n",
              "    }\n",
              "    30% {\n",
              "      border-color: transparent;\n",
              "      border-left-color: var(--fill-color);\n",
              "      border-top-color: var(--fill-color);\n",
              "      border-right-color: var(--fill-color);\n",
              "    }\n",
              "    40% {\n",
              "      border-color: transparent;\n",
              "      border-right-color: var(--fill-color);\n",
              "      border-top-color: var(--fill-color);\n",
              "    }\n",
              "    60% {\n",
              "      border-color: transparent;\n",
              "      border-right-color: var(--fill-color);\n",
              "    }\n",
              "    80% {\n",
              "      border-color: transparent;\n",
              "      border-right-color: var(--fill-color);\n",
              "      border-bottom-color: var(--fill-color);\n",
              "    }\n",
              "    90% {\n",
              "      border-color: transparent;\n",
              "      border-bottom-color: var(--fill-color);\n",
              "    }\n",
              "  }\n",
              "</style>\n",
              "\n",
              "      <script>\n",
              "        async function quickchart(key) {\n",
              "          const quickchartButtonEl =\n",
              "            document.querySelector('#' + key + ' button');\n",
              "          quickchartButtonEl.disabled = true;  // To prevent multiple clicks.\n",
              "          quickchartButtonEl.classList.add('colab-df-spinner');\n",
              "          try {\n",
              "            const charts = await google.colab.kernel.invokeFunction(\n",
              "                'suggestCharts', [key], {});\n",
              "          } catch (error) {\n",
              "            console.error('Error during call to suggestCharts:', error);\n",
              "          }\n",
              "          quickchartButtonEl.classList.remove('colab-df-spinner');\n",
              "          quickchartButtonEl.classList.add('colab-df-quickchart-complete');\n",
              "        }\n",
              "        (() => {\n",
              "          let quickchartButtonEl =\n",
              "            document.querySelector('#df-17345e5e-e483-4a1a-a77d-1a59f3e412cb button');\n",
              "          quickchartButtonEl.style.display =\n",
              "            google.colab.kernel.accessAllowed ? 'block' : 'none';\n",
              "        })();\n",
              "      </script>\n",
              "    </div>\n",
              "\n",
              "    </div>\n",
              "  </div>\n"
            ],
            "application/vnd.google.colaboratory.intrinsic+json": {
              "type": "dataframe",
              "summary": "{\n  \"name\": \"notas\",\n  \"rows\": 5,\n  \"fields\": [\n    {\n      \"column\": \"usuuarioId\",\n      \"properties\": {\n        \"dtype\": \"number\",\n        \"std\": 0,\n        \"min\": 1,\n        \"max\": 1,\n        \"num_unique_values\": 1,\n        \"samples\": [\n          1\n        ],\n        \"semantic_type\": \"\",\n        \"description\": \"\"\n      }\n    },\n    {\n      \"column\": \"filmeId\",\n      \"properties\": {\n        \"dtype\": \"number\",\n        \"std\": 24,\n        \"min\": 1,\n        \"max\": 50,\n        \"num_unique_values\": 5,\n        \"samples\": [\n          3\n        ],\n        \"semantic_type\": \"\",\n        \"description\": \"\"\n      }\n    },\n    {\n      \"column\": \"nota\",\n      \"properties\": {\n        \"dtype\": \"number\",\n        \"std\": 0.5477225575051662,\n        \"min\": 4.0,\n        \"max\": 5.0,\n        \"num_unique_values\": 2,\n        \"samples\": [\n          5.0\n        ],\n        \"semantic_type\": \"\",\n        \"description\": \"\"\n      }\n    },\n    {\n      \"column\": \"momento\",\n      \"properties\": {\n        \"dtype\": \"number\",\n        \"std\": 944,\n        \"min\": 964981247,\n        \"max\": 964983815,\n        \"num_unique_values\": 5,\n        \"samples\": [\n          964981247\n        ],\n        \"semantic_type\": \"\",\n        \"description\": \"\"\n      }\n    }\n  ]\n}"
            }
          },
          "metadata": {},
          "execution_count": 40
        }
      ]
    },
    {
      "cell_type": "code",
      "source": [
        "notas ['nota'] #so a colunaa notas"
      ],
      "metadata": {
        "colab": {
          "base_uri": "https://localhost:8080/",
          "height": 458
        },
        "id": "7uQK46Ek5kRq",
        "outputId": "db77a615-f931-464d-d920-0b8e4621eb10"
      },
      "execution_count": 41,
      "outputs": [
        {
          "output_type": "execute_result",
          "data": {
            "text/plain": [
              "0         4.0\n",
              "1         4.0\n",
              "2         4.0\n",
              "3         5.0\n",
              "4         5.0\n",
              "         ... \n",
              "100831    4.0\n",
              "100832    5.0\n",
              "100833    5.0\n",
              "100834    5.0\n",
              "100835    3.0\n",
              "Name: nota, Length: 100836, dtype: float64"
            ],
            "text/html": [
              "<div>\n",
              "<style scoped>\n",
              "    .dataframe tbody tr th:only-of-type {\n",
              "        vertical-align: middle;\n",
              "    }\n",
              "\n",
              "    .dataframe tbody tr th {\n",
              "        vertical-align: top;\n",
              "    }\n",
              "\n",
              "    .dataframe thead th {\n",
              "        text-align: right;\n",
              "    }\n",
              "</style>\n",
              "<table border=\"1\" class=\"dataframe\">\n",
              "  <thead>\n",
              "    <tr style=\"text-align: right;\">\n",
              "      <th></th>\n",
              "      <th>nota</th>\n",
              "    </tr>\n",
              "  </thead>\n",
              "  <tbody>\n",
              "    <tr>\n",
              "      <th>0</th>\n",
              "      <td>4.0</td>\n",
              "    </tr>\n",
              "    <tr>\n",
              "      <th>1</th>\n",
              "      <td>4.0</td>\n",
              "    </tr>\n",
              "    <tr>\n",
              "      <th>2</th>\n",
              "      <td>4.0</td>\n",
              "    </tr>\n",
              "    <tr>\n",
              "      <th>3</th>\n",
              "      <td>5.0</td>\n",
              "    </tr>\n",
              "    <tr>\n",
              "      <th>4</th>\n",
              "      <td>5.0</td>\n",
              "    </tr>\n",
              "    <tr>\n",
              "      <th>...</th>\n",
              "      <td>...</td>\n",
              "    </tr>\n",
              "    <tr>\n",
              "      <th>100831</th>\n",
              "      <td>4.0</td>\n",
              "    </tr>\n",
              "    <tr>\n",
              "      <th>100832</th>\n",
              "      <td>5.0</td>\n",
              "    </tr>\n",
              "    <tr>\n",
              "      <th>100833</th>\n",
              "      <td>5.0</td>\n",
              "    </tr>\n",
              "    <tr>\n",
              "      <th>100834</th>\n",
              "      <td>5.0</td>\n",
              "    </tr>\n",
              "    <tr>\n",
              "      <th>100835</th>\n",
              "      <td>3.0</td>\n",
              "    </tr>\n",
              "  </tbody>\n",
              "</table>\n",
              "<p>100836 rows × 1 columns</p>\n",
              "</div><br><label><b>dtype:</b> float64</label>"
            ]
          },
          "metadata": {},
          "execution_count": 41
        }
      ]
    },
    {
      "cell_type": "code",
      "source": [
        "notas ['nota'].unique() #valores unicos que foram dados para as notas"
      ],
      "metadata": {
        "colab": {
          "base_uri": "https://localhost:8080/"
        },
        "id": "ZdeC2yg452zJ",
        "outputId": "71f476fd-7acf-48f0-c1fb-050511206a8f"
      },
      "execution_count": 42,
      "outputs": [
        {
          "output_type": "execute_result",
          "data": {
            "text/plain": [
              "array([4. , 5. , 3. , 2. , 1. , 4.5, 3.5, 2.5, 0.5, 1.5])"
            ]
          },
          "metadata": {},
          "execution_count": 42
        }
      ]
    },
    {
      "cell_type": "code",
      "source": [
        "notas ['nota'].value_counts() #frequencia de notas"
      ],
      "metadata": {
        "colab": {
          "base_uri": "https://localhost:8080/",
          "height": 429
        },
        "id": "vr5XkAvD6J6p",
        "outputId": "9bf16843-b933-4746-9ff8-798a2dae848a"
      },
      "execution_count": 43,
      "outputs": [
        {
          "output_type": "execute_result",
          "data": {
            "text/plain": [
              "nota\n",
              "4.0    26818\n",
              "3.0    20047\n",
              "5.0    13211\n",
              "3.5    13136\n",
              "4.5     8551\n",
              "2.0     7551\n",
              "2.5     5550\n",
              "1.0     2811\n",
              "1.5     1791\n",
              "0.5     1370\n",
              "Name: count, dtype: int64"
            ],
            "text/html": [
              "<div>\n",
              "<style scoped>\n",
              "    .dataframe tbody tr th:only-of-type {\n",
              "        vertical-align: middle;\n",
              "    }\n",
              "\n",
              "    .dataframe tbody tr th {\n",
              "        vertical-align: top;\n",
              "    }\n",
              "\n",
              "    .dataframe thead th {\n",
              "        text-align: right;\n",
              "    }\n",
              "</style>\n",
              "<table border=\"1\" class=\"dataframe\">\n",
              "  <thead>\n",
              "    <tr style=\"text-align: right;\">\n",
              "      <th></th>\n",
              "      <th>count</th>\n",
              "    </tr>\n",
              "    <tr>\n",
              "      <th>nota</th>\n",
              "      <th></th>\n",
              "    </tr>\n",
              "  </thead>\n",
              "  <tbody>\n",
              "    <tr>\n",
              "      <th>4.0</th>\n",
              "      <td>26818</td>\n",
              "    </tr>\n",
              "    <tr>\n",
              "      <th>3.0</th>\n",
              "      <td>20047</td>\n",
              "    </tr>\n",
              "    <tr>\n",
              "      <th>5.0</th>\n",
              "      <td>13211</td>\n",
              "    </tr>\n",
              "    <tr>\n",
              "      <th>3.5</th>\n",
              "      <td>13136</td>\n",
              "    </tr>\n",
              "    <tr>\n",
              "      <th>4.5</th>\n",
              "      <td>8551</td>\n",
              "    </tr>\n",
              "    <tr>\n",
              "      <th>2.0</th>\n",
              "      <td>7551</td>\n",
              "    </tr>\n",
              "    <tr>\n",
              "      <th>2.5</th>\n",
              "      <td>5550</td>\n",
              "    </tr>\n",
              "    <tr>\n",
              "      <th>1.0</th>\n",
              "      <td>2811</td>\n",
              "    </tr>\n",
              "    <tr>\n",
              "      <th>1.5</th>\n",
              "      <td>1791</td>\n",
              "    </tr>\n",
              "    <tr>\n",
              "      <th>0.5</th>\n",
              "      <td>1370</td>\n",
              "    </tr>\n",
              "  </tbody>\n",
              "</table>\n",
              "</div><br><label><b>dtype:</b> int64</label>"
            ]
          },
          "metadata": {},
          "execution_count": 43
        }
      ]
    },
    {
      "cell_type": "code",
      "source": [
        "notas ['nota'].mean() #media de notas"
      ],
      "metadata": {
        "colab": {
          "base_uri": "https://localhost:8080/"
        },
        "id": "p6C7fy1E6jBd",
        "outputId": "080eb902-cebe-43d2-8ac1-d86abc69013c"
      },
      "execution_count": 44,
      "outputs": [
        {
          "output_type": "execute_result",
          "data": {
            "text/plain": [
              "np.float64(3.501556983616962)"
            ]
          },
          "metadata": {},
          "execution_count": 44
        }
      ]
    },
    {
      "cell_type": "code",
      "source": [
        "notas['nota'].plot(kind='hist') #histograma"
      ],
      "metadata": {
        "id": "Nz-vu5Z8qVTF",
        "outputId": "9de8fd15-3de8-4c6c-8963-7a8f3f7a93ad",
        "colab": {
          "base_uri": "https://localhost:8080/",
          "height": 447
        }
      },
      "execution_count": 45,
      "outputs": [
        {
          "output_type": "execute_result",
          "data": {
            "text/plain": [
              "<Axes: ylabel='Frequency'>"
            ]
          },
          "metadata": {},
          "execution_count": 45
        },
        {
          "output_type": "display_data",
          "data": {
            "text/plain": [
              "<Figure size 640x480 with 1 Axes>"
            ],
            "image/png": "[encoded data removed]"
          },
          "metadata": {}
        }
      ]
    },
    {
      "cell_type": "code",
      "source": [
        "mediana = notas['nota'].median() #mediana\n",
        "media = notas['nota'].mean() #media\n",
        "print(f'Mediana é {mediana}')\n",
        "print(f'Media é {media}')"
      ],
      "metadata": {
        "id": "JPCOTnP1qV4l",
        "outputId": "d98f4d00-2ca8-46c3-c66c-91a557077bf7",
        "colab": {
          "base_uri": "https://localhost:8080/"
        }
      },
      "execution_count": 46,
      "outputs": [
        {
          "output_type": "stream",
          "name": "stdout",
          "text": [
            "Mediana é 3.5\n",
            "Media é 3.501556983616962\n"
          ]
        }
      ]
    },
    {
      "cell_type": "code",
      "source": [
        "notas['nota'].describe() #descrever"
      ],
      "metadata": {
        "id": "qhNKVAUut8ub",
        "outputId": "ba021bb2-b1d1-4c9e-8cae-62aa43ec5de7",
        "colab": {
          "base_uri": "https://localhost:8080/",
          "height": 335
        }
      },
      "execution_count": 47,
      "outputs": [
        {
          "output_type": "execute_result",
          "data": {
            "text/plain": [
              "count    100836.000000\n",
              "mean          3.501557\n",
              "std           1.042529\n",
              "min           0.500000\n",
              "25%           3.000000\n",
              "50%           3.500000\n",
              "75%           4.000000\n",
              "max           5.000000\n",
              "Name: nota, dtype: float64"
            ],
            "text/html": [
              "<div>\n",
              "<style scoped>\n",
              "    .dataframe tbody tr th:only-of-type {\n",
              "        vertical-align: middle;\n",
              "    }\n",
              "\n",
              "    .dataframe tbody tr th {\n",
              "        vertical-align: top;\n",
              "    }\n",
              "\n",
              "    .dataframe thead th {\n",
              "        text-align: right;\n",
              "    }\n",
              "</style>\n",
              "<table border=\"1\" class=\"dataframe\">\n",
              "  <thead>\n",
              "    <tr style=\"text-align: right;\">\n",
              "      <th></th>\n",
              "      <th>nota</th>\n",
              "    </tr>\n",
              "  </thead>\n",
              "  <tbody>\n",
              "    <tr>\n",
              "      <th>count</th>\n",
              "      <td>100836.000000</td>\n",
              "    </tr>\n",
              "    <tr>\n",
              "      <th>mean</th>\n",
              "      <td>3.501557</td>\n",
              "    </tr>\n",
              "    <tr>\n",
              "      <th>std</th>\n",
              "      <td>1.042529</td>\n",
              "    </tr>\n",
              "    <tr>\n",
              "      <th>min</th>\n",
              "      <td>0.500000</td>\n",
              "    </tr>\n",
              "    <tr>\n",
              "      <th>25%</th>\n",
              "      <td>3.000000</td>\n",
              "    </tr>\n",
              "    <tr>\n",
              "      <th>50%</th>\n",
              "      <td>3.500000</td>\n",
              "    </tr>\n",
              "    <tr>\n",
              "      <th>75%</th>\n",
              "      <td>4.000000</td>\n",
              "    </tr>\n",
              "    <tr>\n",
              "      <th>max</th>\n",
              "      <td>5.000000</td>\n",
              "    </tr>\n",
              "  </tbody>\n",
              "</table>\n",
              "</div><br><label><b>dtype:</b> float64</label>"
            ]
          },
          "metadata": {},
          "execution_count": 47
        }
      ]
    },
    {
      "cell_type": "code",
      "source": [
        "import seaborn as sns\n",
        "\n",
        "sns.boxplot(notas['nota']) #data frame notas"
      ],
      "metadata": {
        "id": "_kwp7TiquGIB",
        "outputId": "df06af67-ae99-4ba7-e72f-c1e64485c144",
        "colab": {
          "base_uri": "https://localhost:8080/",
          "height": 428
        }
      },
      "execution_count": 48,
      "outputs": [
        {
          "output_type": "execute_result",
          "data": {
            "text/plain": [
              "<Axes: ylabel='nota'>"
            ]
          },
          "metadata": {},
          "execution_count": 48
        },
        {
          "output_type": "display_data",
          "data": {
            "text/plain": [
              "<Figure size 640x480 with 1 Axes>"
            ],
            "image/png": "[encoded data removed]"
          },
          "metadata": {}
        }
      ]
    },
    {
      "cell_type": "markdown",
      "source": [
        "DataFrame->\n",
        "Um DataFrame é uma estrutura tabular bidimensional, similar a uma planilha ou tabela de banco de dados, onde os dados são organizados em linhas e colunas."
      ],
      "metadata": {
        "id": "jG8r8WK-wii4"
      }
    },
    {
      "cell_type": "code",
      "source": [
        "import pandas as pd\n",
        "\n",
        "# Criando um DataFrame simples\n",
        "dados = { 'Nome': ['Mirla', 'Ana', 'Daniel'],\n",
        "   'Idade': [25, 30, 35],\n",
        "              'Salario': [5000, 6000, 8000]}\n",
        "df = pd.DataFrame(dados)\n",
        "df\n"
      ],
      "metadata": {
        "id": "A8_vriAewrLO",
        "outputId": "69e285a1-3b00-42da-fc97-848fdff0b23e",
        "colab": {
          "base_uri": "https://localhost:8080/",
          "height": 143
        }
      },
      "execution_count": 49,
      "outputs": [
        {
          "output_type": "execute_result",
          "data": {
            "text/plain": [
              "     Nome  Idade  Salario\n",
              "0   Mirla     25     5000\n",
              "1     Ana     30     6000\n",
              "2  Daniel     35     8000"
            ],
            "text/html": [
              "\n",
              "  <div id=\"df-2d3e0cfa-9d9d-4b3a-ba40-c19c9b497f4f\" class=\"colab-df-container\">\n",
              "    <div>\n",
              "<style scoped>\n",
              "    .dataframe tbody tr th:only-of-type {\n",
              "        vertical-align: middle;\n",
              "    }\n",
              "\n",
              "    .dataframe tbody tr th {\n",
              "        vertical-align: top;\n",
              "    }\n",
              "\n",
              "    .dataframe thead th {\n",
              "        text-align: right;\n",
              "    }\n",
              "</style>\n",
              "<table border=\"1\" class=\"dataframe\">\n",
              "  <thead>\n",
              "    <tr style=\"text-align: right;\">\n",
              "      <th></th>\n",
              "      <th>Nome</th>\n",
              "      <th>Idade</th>\n",
              "      <th>Salario</th>\n",
              "    </tr>\n",
              "  </thead>\n",
              "  <tbody>\n",
              "    <tr>\n",
              "      <th>0</th>\n",
              "      <td>Mirla</td>\n",
              "      <td>25</td>\n",
              "      <td>5000</td>\n",
              "    </tr>\n",
              "    <tr>\n",
              "      <th>1</th>\n",
              "      <td>Ana</td>\n",
              "      <td>30</td>\n",
              "      <td>6000</td>\n",
              "    </tr>\n",
              "    <tr>\n",
              "      <th>2</th>\n",
              "      <td>Daniel</td>\n",
              "      <td>35</td>\n",
              "      <td>8000</td>\n",
              "    </tr>\n",
              "  </tbody>\n",
              "</table>\n",
              "</div>\n",
              "    <div class=\"colab-df-buttons\">\n",
              "\n",
              "  <div class=\"colab-df-container\">\n",
              "    <button class=\"colab-df-convert\" onclick=\"convertToInteractive('df-2d3e0cfa-9d9d-4b3a-ba40-c19c9b497f4f')\"\n",
              "            title=\"Convert this dataframe to an interactive table.\"\n",
              "            style=\"display:none;\">\n",
              "\n",
              "  <svg xmlns=\"http://www.w3.org/2000/svg\" height=\"24px\" viewBox=\"0 -960 960 960\">\n",
              "    <path d=\"M120-120v-720h720v720H120Zm60-500h600v-160H180v160Zm220 220h160v-160H400v160Zm0 220h160v-160H400v160ZM180-400h160v-160H180v160Zm440 0h160v-160H620v160ZM180-180h160v-160H180v160Zm440 0h160v-160H620v160Z\"/>\n",
              "  </svg>\n",
              "    </button>\n",
              "\n",
              "  <style>\n",
              "    .colab-df-container {\n",
              "      display:flex;\n",
              "      gap: 12px;\n",
              "    }\n",
              "\n",
              "    .colab-df-convert {\n",
              "      background-color: #E8F0FE;\n",
              "      border: none;\n",
              "      border-radius: 50%;\n",
              "      cursor: pointer;\n",
              "      display: none;\n",
              "      fill: #1967D2;\n",
              "      height: 32px;\n",
              "      padding: 0 0 0 0;\n",
              "      width: 32px;\n",
              "    }\n",
              "\n",
              "    .colab-df-convert:hover {\n",
              "      background-color: #E2EBFA;\n",
              "      box-shadow: 0px 1px 2px rgba(60, 64, 67, 0.3), 0px 1px 3px 1px rgba(60, 64, 67, 0.15);\n",
              "      fill: #174EA6;\n",
              "    }\n",
              "\n",
              "    .colab-df-buttons div {\n",
              "      margin-bottom: 4px;\n",
              "    }\n",
              "\n",
              "    [theme=dark] .colab-df-convert {\n",
              "      background-color: #3B4455;\n",
              "      fill: #D2E3FC;\n",
              "    }\n",
              "\n",
              "    [theme=dark] .colab-df-convert:hover {\n",
              "      background-color: #434B5C;\n",
              "      box-shadow: 0px 1px 3px 1px rgba(0, 0, 0, 0.15);\n",
              "      filter: drop-shadow(0px 1px 2px rgba(0, 0, 0, 0.3));\n",
              "      fill: #FFFFFF;\n",
              "    }\n",
              "  </style>\n",
              "\n",
              "    <script>\n",
              "      const buttonEl =\n",
              "        document.querySelector('#df-2d3e0cfa-9d9d-4b3a-ba40-c19c9b497f4f button.colab-df-convert');\n",
              "      buttonEl.style.display =\n",
              "        google.colab.kernel.accessAllowed ? 'block' : 'none';\n",
              "\n",
              "      async function convertToInteractive(key) {\n",
              "        const element = document.querySelector('#df-2d3e0cfa-9d9d-4b3a-ba40-c19c9b497f4f');\n",
              "        const dataTable =\n",
              "          await google.colab.kernel.invokeFunction('convertToInteractive',\n",
              "                                                    [key], {});\n",
              "        if (!dataTable) return;\n",
              "\n",
              "        const docLinkHtml = 'Like what you see? Visit the ' +\n",
              "          '<a target=\"_blank\" href=https://colab.research.google.com/notebooks/data_table.ipynb>data table notebook</a>'\n",
              "          + ' to learn more about interactive tables.';\n",
              "        element.innerHTML = '';\n",
              "        dataTable['output_type'] = 'display_data';\n",
              "        await google.colab.output.renderOutput(dataTable, element);\n",
              "        const docLink = document.createElement('div');\n",
              "        docLink.innerHTML = docLinkHtml;\n",
              "        element.appendChild(docLink);\n",
              "      }\n",
              "    </script>\n",
              "  </div>\n",
              "\n",
              "\n",
              "    <div id=\"df-dc847511-b36a-46eb-bd80-d423287c503f\">\n",
              "      <button class=\"colab-df-quickchart\" onclick=\"quickchart('df-dc847511-b36a-46eb-bd80-d423287c503f')\"\n",
              "                title=\"Suggest charts\"\n",
              "                style=\"display:none;\">\n",
              "\n",
              "<svg xmlns=\"http://www.w3.org/2000/svg\" height=\"24px\"viewBox=\"0 0 24 24\"\n",
              "     width=\"24px\">\n",
              "    <g>\n",
              "        <path d=\"M19 3H5c-1.1 0-2 .9-2 2v14c0 1.1.9 2 2 2h14c1.1 0 2-.9 2-2V5c0-1.1-.9-2-2-2zM9 17H7v-7h2v7zm4 0h-2V7h2v10zm4 0h-2v-4h2v4z\"/>\n",
              "    </g>\n",
              "</svg>\n",
              "      </button>\n",
              "\n",
              "<style>\n",
              "  .colab-df-quickchart {\n",
              "      --bg-color: #E8F0FE;\n",
              "      --fill-color: #1967D2;\n",
              "      --hover-bg-color: #E2EBFA;\n",
              "      --hover-fill-color: #174EA6;\n",
              "      --disabled-fill-color: #AAA;\n",
              "      --disabled-bg-color: #DDD;\n",
              "  }\n",
              "\n",
              "  [theme=dark] .colab-df-quickchart {\n",
              "      --bg-color: #3B4455;\n",
              "      --fill-color: #D2E3FC;\n",
              "      --hover-bg-color: #434B5C;\n",
              "      --hover-fill-color: #FFFFFF;\n",
              "      --disabled-bg-color: #3B4455;\n",
              "      --disabled-fill-color: #666;\n",
              "  }\n",
              "\n",
              "  .colab-df-quickchart {\n",
              "    background-color: var(--bg-color);\n",
              "    border: none;\n",
              "    border-radius: 50%;\n",
              "    cursor: pointer;\n",
              "    display: none;\n",
              "    fill: var(--fill-color);\n",
              "    height: 32px;\n",
              "    padding: 0;\n",
              "    width: 32px;\n",
              "  }\n",
              "\n",
              "  .colab-df-quickchart:hover {\n",
              "    background-color: var(--hover-bg-color);\n",
              "    box-shadow: 0 1px 2px rgba(60, 64, 67, 0.3), 0 1px 3px 1px rgba(60, 64, 67, 0.15);\n",
              "    fill: var(--button-hover-fill-color);\n",
              "  }\n",
              "\n",
              "  .colab-df-quickchart-complete:disabled,\n",
              "  .colab-df-quickchart-complete:disabled:hover {\n",
              "    background-color: var(--disabled-bg-color);\n",
              "    fill: var(--disabled-fill-color);\n",
              "    box-shadow: none;\n",
              "  }\n",
              "\n",
              "  .colab-df-spinner {\n",
              "    border: 2px solid var(--fill-color);\n",
              "    border-color: transparent;\n",
              "    border-bottom-color: var(--fill-color);\n",
              "    animation:\n",
              "      spin 1s steps(1) infinite;\n",
              "  }\n",
              "\n",
              "  @keyframes spin {\n",
              "    0% {\n",
              "      border-color: transparent;\n",
              "      border-bottom-color: var(--fill-color);\n",
              "      border-left-color: var(--fill-color);\n",
              "    }\n",
              "    20% {\n",
              "      border-color: transparent;\n",
              "      border-left-color: var(--fill-color);\n",
              "      border-top-color: var(--fill-color);\n",
              "    }\n",
              "    30% {\n",
              "      border-color: transparent;\n",
              "      border-left-color: var(--fill-color);\n",
              "      border-top-color: var(--fill-color);\n",
              "      border-right-color: var(--fill-color);\n",
              "    }\n",
              "    40% {\n",
              "      border-color: transparent;\n",
              "      border-right-color: var(--fill-color);\n",
              "      border-top-color: var(--fill-color);\n",
              "    }\n",
              "    60% {\n",
              "      border-color: transparent;\n",
              "      border-right-color: var(--fill-color);\n",
              "    }\n",
              "    80% {\n",
              "      border-color: transparent;\n",
              "      border-right-color: var(--fill-color);\n",
              "      border-bottom-color: var(--fill-color);\n",
              "    }\n",
              "    90% {\n",
              "      border-color: transparent;\n",
              "      border-bottom-color: var(--fill-color);\n",
              "    }\n",
              "  }\n",
              "</style>\n",
              "\n",
              "      <script>\n",
              "        async function quickchart(key) {\n",
              "          const quickchartButtonEl =\n",
              "            document.querySelector('#' + key + ' button');\n",
              "          quickchartButtonEl.disabled = true;  // To prevent multiple clicks.\n",
              "          quickchartButtonEl.classList.add('colab-df-spinner');\n",
              "          try {\n",
              "            const charts = await google.colab.kernel.invokeFunction(\n",
              "                'suggestCharts', [key], {});\n",
              "          } catch (error) {\n",
              "            console.error('Error during call to suggestCharts:', error);\n",
              "          }\n",
              "          quickchartButtonEl.classList.remove('colab-df-spinner');\n",
              "          quickchartButtonEl.classList.add('colab-df-quickchart-complete');\n",
              "        }\n",
              "        (() => {\n",
              "          let quickchartButtonEl =\n",
              "            document.querySelector('#df-dc847511-b36a-46eb-bd80-d423287c503f button');\n",
              "          quickchartButtonEl.style.display =\n",
              "            google.colab.kernel.accessAllowed ? 'block' : 'none';\n",
              "        })();\n",
              "      </script>\n",
              "    </div>\n",
              "\n",
              "  <div id=\"id_f6632f26-3db6-42b9-99de-55e1c6071fee\">\n",
              "    <style>\n",
              "      .colab-df-generate {\n",
              "        background-color: #E8F0FE;\n",
              "        border: none;\n",
              "        border-radius: 50%;\n",
              "        cursor: pointer;\n",
              "        display: none;\n",
              "        fill: #1967D2;\n",
              "        height: 32px;\n",
              "        padding: 0 0 0 0;\n",
              "        width: 32px;\n",
              "      }\n",
              "\n",
              "      .colab-df-generate:hover {\n",
              "        background-color: #E2EBFA;\n",
              "        box-shadow: 0px 1px 2px rgba(60, 64, 67, 0.3), 0px 1px 3px 1px rgba(60, 64, 67, 0.15);\n",
              "        fill: #174EA6;\n",
              "      }\n",
              "\n",
              "      [theme=dark] .colab-df-generate {\n",
              "        background-color: #3B4455;\n",
              "        fill: #D2E3FC;\n",
              "      }\n",
              "\n",
              "      [theme=dark] .colab-df-generate:hover {\n",
              "        background-color: #434B5C;\n",
              "        box-shadow: 0px 1px 3px 1px rgba(0, 0, 0, 0.15);\n",
              "        filter: drop-shadow(0px 1px 2px rgba(0, 0, 0, 0.3));\n",
              "        fill: #FFFFFF;\n",
              "      }\n",
              "    </style>\n",
              "    <button class=\"colab-df-generate\" onclick=\"generateWithVariable('df')\"\n",
              "            title=\"Generate code using this dataframe.\"\n",
              "            style=\"display:none;\">\n",
              "\n",
              "  <svg xmlns=\"http://www.w3.org/2000/svg\" height=\"24px\"viewBox=\"0 0 24 24\"\n",
              "       width=\"24px\">\n",
              "    <path d=\"M7,19H8.4L18.45,9,17,7.55,7,17.6ZM5,21V16.75L18.45,3.32a2,2,0,0,1,2.83,0l1.4,1.43a1.91,1.91,0,0,1,.58,1.4,1.91,1.91,0,0,1-.58,1.4L9.25,21ZM18.45,9,17,7.55Zm-12,3A5.31,5.31,0,0,0,4.9,8.1,5.31,5.31,0,0,0,1,6.5,5.31,5.31,0,0,0,4.9,4.9,5.31,5.31,0,0,0,6.5,1,5.31,5.31,0,0,0,8.1,4.9,5.31,5.31,0,0,0,12,6.5,5.46,5.46,0,0,0,6.5,12Z\"/>\n",
              "  </svg>\n",
              "    </button>\n",
              "    <script>\n",
              "      (() => {\n",
              "      const buttonEl =\n",
              "        document.querySelector('#id_f6632f26-3db6-42b9-99de-55e1c6071fee button.colab-df-generate');\n",
              "      buttonEl.style.display =\n",
              "        google.colab.kernel.accessAllowed ? 'block' : 'none';\n",
              "\n",
              "      buttonEl.onclick = () => {\n",
              "        google.colab.notebook.generateWithVariable('df');\n",
              "      }\n",
              "      })();\n",
              "    </script>\n",
              "  </div>\n",
              "\n",
              "    </div>\n",
              "  </div>\n"
            ],
            "application/vnd.google.colaboratory.intrinsic+json": {
              "type": "dataframe",
              "variable_name": "df",
              "summary": "{\n  \"name\": \"df\",\n  \"rows\": 3,\n  \"fields\": [\n    {\n      \"column\": \"Nome\",\n      \"properties\": {\n        \"dtype\": \"string\",\n        \"num_unique_values\": 3,\n        \"samples\": [\n          \"Mirla\",\n          \"Ana\",\n          \"Daniel\"\n        ],\n        \"semantic_type\": \"\",\n        \"description\": \"\"\n      }\n    },\n    {\n      \"column\": \"Idade\",\n      \"properties\": {\n        \"dtype\": \"number\",\n        \"std\": 5,\n        \"min\": 25,\n        \"max\": 35,\n        \"num_unique_values\": 3,\n        \"samples\": [\n          25,\n          30,\n          35\n        ],\n        \"semantic_type\": \"\",\n        \"description\": \"\"\n      }\n    },\n    {\n      \"column\": \"Salario\",\n      \"properties\": {\n        \"dtype\": \"number\",\n        \"std\": 1527,\n        \"min\": 5000,\n        \"max\": 8000,\n        \"num_unique_values\": 3,\n        \"samples\": [\n          5000,\n          6000,\n          8000\n        ],\n        \"semantic_type\": \"\",\n        \"description\": \"\"\n      }\n    }\n  ]\n}"
            }
          },
          "metadata": {},
          "execution_count": 49
        }
      ]
    },
    {
      "cell_type": "markdown",
      "source": [
        "Em um DataFrame, podemos aplicar funções para explorar, tratar e manipular os dados tanto em toda a sua estrutura como em uma ou mais colunas (Series)."
      ],
      "metadata": {
        "id": "2DEnXEf3xGpV"
      }
    },
    {
      "cell_type": "markdown",
      "source": [
        "Um Series por sua vez é uma estrutura unidimensional que armazena uma sequência de valores indexados. Podemos dizer que um DataFrame nada mais é que uma sequência de vários Series nomeados organizados coluna por coluna e ordenados pelos índices.\n"
      ],
      "metadata": {
        "id": "k9nid-tMxgHT"
      }
    },
    {
      "cell_type": "code",
      "source": [
        "import pandas as pd\n",
        "\n",
        "# Criando um Series simples\n",
        "idades = pd.Series([45, 30, 45, 40, 25])\n",
        "idades"
      ],
      "metadata": {
        "id": "XPQAcKdmxlJa",
        "outputId": "7714922a-8fd9-4645-c5b9-cd53b0a8c5e4",
        "colab": {
          "base_uri": "https://localhost:8080/",
          "height": 241
        }
      },
      "execution_count": 50,
      "outputs": [
        {
          "output_type": "execute_result",
          "data": {
            "text/plain": [
              "0    45\n",
              "1    30\n",
              "2    45\n",
              "3    40\n",
              "4    25\n",
              "dtype: int64"
            ],
            "text/html": [
              "<div>\n",
              "<style scoped>\n",
              "    .dataframe tbody tr th:only-of-type {\n",
              "        vertical-align: middle;\n",
              "    }\n",
              "\n",
              "    .dataframe tbody tr th {\n",
              "        vertical-align: top;\n",
              "    }\n",
              "\n",
              "    .dataframe thead th {\n",
              "        text-align: right;\n",
              "    }\n",
              "</style>\n",
              "<table border=\"1\" class=\"dataframe\">\n",
              "  <thead>\n",
              "    <tr style=\"text-align: right;\">\n",
              "      <th></th>\n",
              "      <th>0</th>\n",
              "    </tr>\n",
              "  </thead>\n",
              "  <tbody>\n",
              "    <tr>\n",
              "      <th>0</th>\n",
              "      <td>45</td>\n",
              "    </tr>\n",
              "    <tr>\n",
              "      <th>1</th>\n",
              "      <td>30</td>\n",
              "    </tr>\n",
              "    <tr>\n",
              "      <th>2</th>\n",
              "      <td>45</td>\n",
              "    </tr>\n",
              "    <tr>\n",
              "      <th>3</th>\n",
              "      <td>40</td>\n",
              "    </tr>\n",
              "    <tr>\n",
              "      <th>4</th>\n",
              "      <td>25</td>\n",
              "    </tr>\n",
              "  </tbody>\n",
              "</table>\n",
              "</div><br><label><b>dtype:</b> int64</label>"
            ]
          },
          "metadata": {},
          "execution_count": 50
        }
      ]
    },
    {
      "cell_type": "code",
      "source": [
        "import pandas as pd\n",
        "\n",
        "filmes = pd.read_csv(\"https://raw.githubusercontent.com/alura-cursos/data-science-analise-exploratoria/main/Aula_0/ml-latest-small/movies.csv\")\n",
        "filmes.columns = [\"filmeId\", \"titulo\", \"generos\"]\n",
        "filmes.head() #para pegar os primeiros"
      ],
      "metadata": {
        "colab": {
          "base_uri": "https://localhost:8080/",
          "height": 206
        },
        "id": "uK1hbDyHWkIv",
        "outputId": "c1c5f4a8-c737-46c6-9e8c-01f3bc1a4a4a"
      },
      "execution_count": 51,
      "outputs": [
        {
          "output_type": "execute_result",
          "data": {
            "text/plain": [
              "   filmeId                              titulo  \\\n",
              "0        1                    Toy Story (1995)   \n",
              "1        2                      Jumanji (1995)   \n",
              "2        3             Grumpier Old Men (1995)   \n",
              "3        4            Waiting to Exhale (1995)   \n",
              "4        5  Father of the Bride Part II (1995)   \n",
              "\n",
              "                                       generos  \n",
              "0  Adventure|Animation|Children|Comedy|Fantasy  \n",
              "1                   Adventure|Children|Fantasy  \n",
              "2                               Comedy|Romance  \n",
              "3                         Comedy|Drama|Romance  \n",
              "4                                       Comedy  "
            ],
            "text/html": [
              "\n",
              "  <div id=\"df-842492d4-dcad-4017-9e5d-488d8bea8023\" class=\"colab-df-container\">\n",
              "    <div>\n",
              "<style scoped>\n",
              "    .dataframe tbody tr th:only-of-type {\n",
              "        vertical-align: middle;\n",
              "    }\n",
              "\n",
              "    .dataframe tbody tr th {\n",
              "        vertical-align: top;\n",
              "    }\n",
              "\n",
              "    .dataframe thead th {\n",
              "        text-align: right;\n",
              "    }\n",
              "</style>\n",
              "<table border=\"1\" class=\"dataframe\">\n",
              "  <thead>\n",
              "    <tr style=\"text-align: right;\">\n",
              "      <th></th>\n",
              "      <th>filmeId</th>\n",
              "      <th>titulo</th>\n",
              "      <th>generos</th>\n",
              "    </tr>\n",
              "  </thead>\n",
              "  <tbody>\n",
              "    <tr>\n",
              "      <th>0</th>\n",
              "      <td>1</td>\n",
              "      <td>Toy Story (1995)</td>\n",
              "      <td>Adventure|Animation|Children|Comedy|Fantasy</td>\n",
              "    </tr>\n",
              "    <tr>\n",
              "      <th>1</th>\n",
              "      <td>2</td>\n",
              "      <td>Jumanji (1995)</td>\n",
              "      <td>Adventure|Children|Fantasy</td>\n",
              "    </tr>\n",
              "    <tr>\n",
              "      <th>2</th>\n",
              "      <td>3</td>\n",
              "      <td>Grumpier Old Men (1995)</td>\n",
              "      <td>Comedy|Romance</td>\n",
              "    </tr>\n",
              "    <tr>\n",
              "      <th>3</th>\n",
              "      <td>4</td>\n",
              "      <td>Waiting to Exhale (1995)</td>\n",
              "      <td>Comedy|Drama|Romance</td>\n",
              "    </tr>\n",
              "    <tr>\n",
              "      <th>4</th>\n",
              "      <td>5</td>\n",
              "      <td>Father of the Bride Part II (1995)</td>\n",
              "      <td>Comedy</td>\n",
              "    </tr>\n",
              "  </tbody>\n",
              "</table>\n",
              "</div>\n",
              "    <div class=\"colab-df-buttons\">\n",
              "\n",
              "  <div class=\"colab-df-container\">\n",
              "    <button class=\"colab-df-convert\" onclick=\"convertToInteractive('df-842492d4-dcad-4017-9e5d-488d8bea8023')\"\n",
              "            title=\"Convert this dataframe to an interactive table.\"\n",
              "            style=\"display:none;\">\n",
              "\n",
              "  <svg xmlns=\"http://www.w3.org/2000/svg\" height=\"24px\" viewBox=\"0 -960 960 960\">\n",
              "    <path d=\"M120-120v-720h720v720H120Zm60-500h600v-160H180v160Zm220 220h160v-160H400v160Zm0 220h160v-160H400v160ZM180-400h160v-160H180v160Zm440 0h160v-160H620v160ZM180-180h160v-160H180v160Zm440 0h160v-160H620v160Z\"/>\n",
              "  </svg>\n",
              "    </button>\n",
              "\n",
              "  <style>\n",
              "    .colab-df-container {\n",
              "      display:flex;\n",
              "      gap: 12px;\n",
              "    }\n",
              "\n",
              "    .colab-df-convert {\n",
              "      background-color: #E8F0FE;\n",
              "      border: none;\n",
              "      border-radius: 50%;\n",
              "      cursor: pointer;\n",
              "      display: none;\n",
              "      fill: #1967D2;\n",
              "      height: 32px;\n",
              "      padding: 0 0 0 0;\n",
              "      width: 32px;\n",
              "    }\n",
              "\n",
              "    .colab-df-convert:hover {\n",
              "      background-color: #E2EBFA;\n",
              "      box-shadow: 0px 1px 2px rgba(60, 64, 67, 0.3), 0px 1px 3px 1px rgba(60, 64, 67, 0.15);\n",
              "      fill: #174EA6;\n",
              "    }\n",
              "\n",
              "    .colab-df-buttons div {\n",
              "      margin-bottom: 4px;\n",
              "    }\n",
              "\n",
              "    [theme=dark] .colab-df-convert {\n",
              "      background-color: #3B4455;\n",
              "      fill: #D2E3FC;\n",
              "    }\n",
              "\n",
              "    [theme=dark] .colab-df-convert:hover {\n",
              "      background-color: #434B5C;\n",
              "      box-shadow: 0px 1px 3px 1px rgba(0, 0, 0, 0.15);\n",
              "      filter: drop-shadow(0px 1px 2px rgba(0, 0, 0, 0.3));\n",
              "      fill: #FFFFFF;\n",
              "    }\n",
              "  </style>\n",
              "\n",
              "    <script>\n",
              "      const buttonEl =\n",
              "        document.querySelector('#df-842492d4-dcad-4017-9e5d-488d8bea8023 button.colab-df-convert');\n",
              "      buttonEl.style.display =\n",
              "        google.colab.kernel.accessAllowed ? 'block' : 'none';\n",
              "\n",
              "      async function convertToInteractive(key) {\n",
              "        const element = document.querySelector('#df-842492d4-dcad-4017-9e5d-488d8bea8023');\n",
              "        const dataTable =\n",
              "          await google.colab.kernel.invokeFunction('convertToInteractive',\n",
              "                                                    [key], {});\n",
              "        if (!dataTable) return;\n",
              "\n",
              "        const docLinkHtml = 'Like what you see? Visit the ' +\n",
              "          '<a target=\"_blank\" href=https://colab.research.google.com/notebooks/data_table.ipynb>data table notebook</a>'\n",
              "          + ' to learn more about interactive tables.';\n",
              "        element.innerHTML = '';\n",
              "        dataTable['output_type'] = 'display_data';\n",
              "        await google.colab.output.renderOutput(dataTable, element);\n",
              "        const docLink = document.createElement('div');\n",
              "        docLink.innerHTML = docLinkHtml;\n",
              "        element.appendChild(docLink);\n",
              "      }\n",
              "    </script>\n",
              "  </div>\n",
              "\n",
              "\n",
              "    <div id=\"df-5f7de566-a9ae-48d3-8401-064c4c862134\">\n",
              "      <button class=\"colab-df-quickchart\" onclick=\"quickchart('df-5f7de566-a9ae-48d3-8401-064c4c862134')\"\n",
              "                title=\"Suggest charts\"\n",
              "                style=\"display:none;\">\n",
              "\n",
              "<svg xmlns=\"http://www.w3.org/2000/svg\" height=\"24px\"viewBox=\"0 0 24 24\"\n",
              "     width=\"24px\">\n",
              "    <g>\n",
              "        <path d=\"M19 3H5c-1.1 0-2 .9-2 2v14c0 1.1.9 2 2 2h14c1.1 0 2-.9 2-2V5c0-1.1-.9-2-2-2zM9 17H7v-7h2v7zm4 0h-2V7h2v10zm4 0h-2v-4h2v4z\"/>\n",
              "    </g>\n",
              "</svg>\n",
              "      </button>\n",
              "\n",
              "<style>\n",
              "  .colab-df-quickchart {\n",
              "      --bg-color: #E8F0FE;\n",
              "      --fill-color: #1967D2;\n",
              "      --hover-bg-color: #E2EBFA;\n",
              "      --hover-fill-color: #174EA6;\n",
              "      --disabled-fill-color: #AAA;\n",
              "      --disabled-bg-color: #DDD;\n",
              "  }\n",
              "\n",
              "  [theme=dark] .colab-df-quickchart {\n",
              "      --bg-color: #3B4455;\n",
              "      --fill-color: #D2E3FC;\n",
              "      --hover-bg-color: #434B5C;\n",
              "      --hover-fill-color: #FFFFFF;\n",
              "      --disabled-bg-color: #3B4455;\n",
              "      --disabled-fill-color: #666;\n",
              "  }\n",
              "\n",
              "  .colab-df-quickchart {\n",
              "    background-color: var(--bg-color);\n",
              "    border: none;\n",
              "    border-radius: 50%;\n",
              "    cursor: pointer;\n",
              "    display: none;\n",
              "    fill: var(--fill-color);\n",
              "    height: 32px;\n",
              "    padding: 0;\n",
              "    width: 32px;\n",
              "  }\n",
              "\n",
              "  .colab-df-quickchart:hover {\n",
              "    background-color: var(--hover-bg-color);\n",
              "    box-shadow: 0 1px 2px rgba(60, 64, 67, 0.3), 0 1px 3px 1px rgba(60, 64, 67, 0.15);\n",
              "    fill: var(--button-hover-fill-color);\n",
              "  }\n",
              "\n",
              "  .colab-df-quickchart-complete:disabled,\n",
              "  .colab-df-quickchart-complete:disabled:hover {\n",
              "    background-color: var(--disabled-bg-color);\n",
              "    fill: var(--disabled-fill-color);\n",
              "    box-shadow: none;\n",
              "  }\n",
              "\n",
              "  .colab-df-spinner {\n",
              "    border: 2px solid var(--fill-color);\n",
              "    border-color: transparent;\n",
              "    border-bottom-color: var(--fill-color);\n",
              "    animation:\n",
              "      spin 1s steps(1) infinite;\n",
              "  }\n",
              "\n",
              "  @keyframes spin {\n",
              "    0% {\n",
              "      border-color: transparent;\n",
              "      border-bottom-color: var(--fill-color);\n",
              "      border-left-color: var(--fill-color);\n",
              "    }\n",
              "    20% {\n",
              "      border-color: transparent;\n",
              "      border-left-color: var(--fill-color);\n",
              "      border-top-color: var(--fill-color);\n",
              "    }\n",
              "    30% {\n",
              "      border-color: transparent;\n",
              "      border-left-color: var(--fill-color);\n",
              "      border-top-color: var(--fill-color);\n",
              "      border-right-color: var(--fill-color);\n",
              "    }\n",
              "    40% {\n",
              "      border-color: transparent;\n",
              "      border-right-color: var(--fill-color);\n",
              "      border-top-color: var(--fill-color);\n",
              "    }\n",
              "    60% {\n",
              "      border-color: transparent;\n",
              "      border-right-color: var(--fill-color);\n",
              "    }\n",
              "    80% {\n",
              "      border-color: transparent;\n",
              "      border-right-color: var(--fill-color);\n",
              "      border-bottom-color: var(--fill-color);\n",
              "    }\n",
              "    90% {\n",
              "      border-color: transparent;\n",
              "      border-bottom-color: var(--fill-color);\n",
              "    }\n",
              "  }\n",
              "</style>\n",
              "\n",
              "      <script>\n",
              "        async function quickchart(key) {\n",
              "          const quickchartButtonEl =\n",
              "            document.querySelector('#' + key + ' button');\n",
              "          quickchartButtonEl.disabled = true;  // To prevent multiple clicks.\n",
              "          quickchartButtonEl.classList.add('colab-df-spinner');\n",
              "          try {\n",
              "            const charts = await google.colab.kernel.invokeFunction(\n",
              "                'suggestCharts', [key], {});\n",
              "          } catch (error) {\n",
              "            console.error('Error during call to suggestCharts:', error);\n",
              "          }\n",
              "          quickchartButtonEl.classList.remove('colab-df-spinner');\n",
              "          quickchartButtonEl.classList.add('colab-df-quickchart-complete');\n",
              "        }\n",
              "        (() => {\n",
              "          let quickchartButtonEl =\n",
              "            document.querySelector('#df-5f7de566-a9ae-48d3-8401-064c4c862134 button');\n",
              "          quickchartButtonEl.style.display =\n",
              "            google.colab.kernel.accessAllowed ? 'block' : 'none';\n",
              "        })();\n",
              "      </script>\n",
              "    </div>\n",
              "\n",
              "    </div>\n",
              "  </div>\n"
            ],
            "application/vnd.google.colaboratory.intrinsic+json": {
              "type": "dataframe",
              "variable_name": "filmes",
              "summary": "{\n  \"name\": \"filmes\",\n  \"rows\": 9742,\n  \"fields\": [\n    {\n      \"column\": \"filmeId\",\n      \"properties\": {\n        \"dtype\": \"number\",\n        \"std\": 52160,\n        \"min\": 1,\n        \"max\": 193609,\n        \"num_unique_values\": 9742,\n        \"samples\": [\n          45635,\n          1373,\n          7325\n        ],\n        \"semantic_type\": \"\",\n        \"description\": \"\"\n      }\n    },\n    {\n      \"column\": \"titulo\",\n      \"properties\": {\n        \"dtype\": \"string\",\n        \"num_unique_values\": 9737,\n        \"samples\": [\n          \"Teenage Mutant Ninja Turtles (2014)\",\n          \"America's Sweethearts (2001)\",\n          \"Cast Away (2000)\"\n        ],\n        \"semantic_type\": \"\",\n        \"description\": \"\"\n      }\n    },\n    {\n      \"column\": \"generos\",\n      \"properties\": {\n        \"dtype\": \"category\",\n        \"num_unique_values\": 951,\n        \"samples\": [\n          \"Crime|Mystery|Romance|Thriller\",\n          \"Action|Adventure|Comedy|Western\",\n          \"Crime|Drama|Musical\"\n        ],\n        \"semantic_type\": \"\",\n        \"description\": \"\"\n      }\n    }\n  ]\n}"
            }
          },
          "metadata": {},
          "execution_count": 51
        }
      ]
    },
    {
      "cell_type": "code",
      "source": [
        "notas.head() #para pegar as primeiras notas do filme 1"
      ],
      "metadata": {
        "colab": {
          "base_uri": "https://localhost:8080/",
          "height": 206
        },
        "id": "ayeCaCORWf27",
        "outputId": "e6673d9d-0db2-4734-c1fe-219e0f086ff5"
      },
      "execution_count": 52,
      "outputs": [
        {
          "output_type": "execute_result",
          "data": {
            "text/plain": [
              "   usuuarioId  filmeId  nota    momento\n",
              "0           1        1   4.0  964982703\n",
              "1           1        3   4.0  964981247\n",
              "2           1        6   4.0  964982224\n",
              "3           1       47   5.0  964983815\n",
              "4           1       50   5.0  964982931"
            ],
            "text/html": [
              "\n",
              "  <div id=\"df-a07e1388-b9ca-4838-841e-1563683b54bc\" class=\"colab-df-container\">\n",
              "    <div>\n",
              "<style scoped>\n",
              "    .dataframe tbody tr th:only-of-type {\n",
              "        vertical-align: middle;\n",
              "    }\n",
              "\n",
              "    .dataframe tbody tr th {\n",
              "        vertical-align: top;\n",
              "    }\n",
              "\n",
              "    .dataframe thead th {\n",
              "        text-align: right;\n",
              "    }\n",
              "</style>\n",
              "<table border=\"1\" class=\"dataframe\">\n",
              "  <thead>\n",
              "    <tr style=\"text-align: right;\">\n",
              "      <th></th>\n",
              "      <th>usuuarioId</th>\n",
              "      <th>filmeId</th>\n",
              "      <th>nota</th>\n",
              "      <th>momento</th>\n",
              "    </tr>\n",
              "  </thead>\n",
              "  <tbody>\n",
              "    <tr>\n",
              "      <th>0</th>\n",
              "      <td>1</td>\n",
              "      <td>1</td>\n",
              "      <td>4.0</td>\n",
              "      <td>964982703</td>\n",
              "    </tr>\n",
              "    <tr>\n",
              "      <th>1</th>\n",
              "      <td>1</td>\n",
              "      <td>3</td>\n",
              "      <td>4.0</td>\n",
              "      <td>964981247</td>\n",
              "    </tr>\n",
              "    <tr>\n",
              "      <th>2</th>\n",
              "      <td>1</td>\n",
              "      <td>6</td>\n",
              "      <td>4.0</td>\n",
              "      <td>964982224</td>\n",
              "    </tr>\n",
              "    <tr>\n",
              "      <th>3</th>\n",
              "      <td>1</td>\n",
              "      <td>47</td>\n",
              "      <td>5.0</td>\n",
              "      <td>964983815</td>\n",
              "    </tr>\n",
              "    <tr>\n",
              "      <th>4</th>\n",
              "      <td>1</td>\n",
              "      <td>50</td>\n",
              "      <td>5.0</td>\n",
              "      <td>964982931</td>\n",
              "    </tr>\n",
              "  </tbody>\n",
              "</table>\n",
              "</div>\n",
              "    <div class=\"colab-df-buttons\">\n",
              "\n",
              "  <div class=\"colab-df-container\">\n",
              "    <button class=\"colab-df-convert\" onclick=\"convertToInteractive('df-a07e1388-b9ca-4838-841e-1563683b54bc')\"\n",
              "            title=\"Convert this dataframe to an interactive table.\"\n",
              "            style=\"display:none;\">\n",
              "\n",
              "  <svg xmlns=\"http://www.w3.org/2000/svg\" height=\"24px\" viewBox=\"0 -960 960 960\">\n",
              "    <path d=\"M120-120v-720h720v720H120Zm60-500h600v-160H180v160Zm220 220h160v-160H400v160Zm0 220h160v-160H400v160ZM180-400h160v-160H180v160Zm440 0h160v-160H620v160ZM180-180h160v-160H180v160Zm440 0h160v-160H620v160Z\"/>\n",
              "  </svg>\n",
              "    </button>\n",
              "\n",
              "  <style>\n",
              "    .colab-df-container {\n",
              "      display:flex;\n",
              "      gap: 12px;\n",
              "    }\n",
              "\n",
              "    .colab-df-convert {\n",
              "      background-color: #E8F0FE;\n",
              "      border: none;\n",
              "      border-radius: 50%;\n",
              "      cursor: pointer;\n",
              "      display: none;\n",
              "      fill: #1967D2;\n",
              "      height: 32px;\n",
              "      padding: 0 0 0 0;\n",
              "      width: 32px;\n",
              "    }\n",
              "\n",
              "    .colab-df-convert:hover {\n",
              "      background-color: #E2EBFA;\n",
              "      box-shadow: 0px 1px 2px rgba(60, 64, 67, 0.3), 0px 1px 3px 1px rgba(60, 64, 67, 0.15);\n",
              "      fill: #174EA6;\n",
              "    }\n",
              "\n",
              "    .colab-df-buttons div {\n",
              "      margin-bottom: 4px;\n",
              "    }\n",
              "\n",
              "    [theme=dark] .colab-df-convert {\n",
              "      background-color: #3B4455;\n",
              "      fill: #D2E3FC;\n",
              "    }\n",
              "\n",
              "    [theme=dark] .colab-df-convert:hover {\n",
              "      background-color: #434B5C;\n",
              "      box-shadow: 0px 1px 3px 1px rgba(0, 0, 0, 0.15);\n",
              "      filter: drop-shadow(0px 1px 2px rgba(0, 0, 0, 0.3));\n",
              "      fill: #FFFFFF;\n",
              "    }\n",
              "  </style>\n",
              "\n",
              "    <script>\n",
              "      const buttonEl =\n",
              "        document.querySelector('#df-a07e1388-b9ca-4838-841e-1563683b54bc button.colab-df-convert');\n",
              "      buttonEl.style.display =\n",
              "        google.colab.kernel.accessAllowed ? 'block' : 'none';\n",
              "\n",
              "      async function convertToInteractive(key) {\n",
              "        const element = document.querySelector('#df-a07e1388-b9ca-4838-841e-1563683b54bc');\n",
              "        const dataTable =\n",
              "          await google.colab.kernel.invokeFunction('convertToInteractive',\n",
              "                                                    [key], {});\n",
              "        if (!dataTable) return;\n",
              "\n",
              "        const docLinkHtml = 'Like what you see? Visit the ' +\n",
              "          '<a target=\"_blank\" href=https://colab.research.google.com/notebooks/data_table.ipynb>data table notebook</a>'\n",
              "          + ' to learn more about interactive tables.';\n",
              "        element.innerHTML = '';\n",
              "        dataTable['output_type'] = 'display_data';\n",
              "        await google.colab.output.renderOutput(dataTable, element);\n",
              "        const docLink = document.createElement('div');\n",
              "        docLink.innerHTML = docLinkHtml;\n",
              "        element.appendChild(docLink);\n",
              "      }\n",
              "    </script>\n",
              "  </div>\n",
              "\n",
              "\n",
              "    <div id=\"df-29789eb3-9598-4ee2-9c29-1458d0e62033\">\n",
              "      <button class=\"colab-df-quickchart\" onclick=\"quickchart('df-29789eb3-9598-4ee2-9c29-1458d0e62033')\"\n",
              "                title=\"Suggest charts\"\n",
              "                style=\"display:none;\">\n",
              "\n",
              "<svg xmlns=\"http://www.w3.org/2000/svg\" height=\"24px\"viewBox=\"0 0 24 24\"\n",
              "     width=\"24px\">\n",
              "    <g>\n",
              "        <path d=\"M19 3H5c-1.1 0-2 .9-2 2v14c0 1.1.9 2 2 2h14c1.1 0 2-.9 2-2V5c0-1.1-.9-2-2-2zM9 17H7v-7h2v7zm4 0h-2V7h2v10zm4 0h-2v-4h2v4z\"/>\n",
              "    </g>\n",
              "</svg>\n",
              "      </button>\n",
              "\n",
              "<style>\n",
              "  .colab-df-quickchart {\n",
              "      --bg-color: #E8F0FE;\n",
              "      --fill-color: #1967D2;\n",
              "      --hover-bg-color: #E2EBFA;\n",
              "      --hover-fill-color: #174EA6;\n",
              "      --disabled-fill-color: #AAA;\n",
              "      --disabled-bg-color: #DDD;\n",
              "  }\n",
              "\n",
              "  [theme=dark] .colab-df-quickchart {\n",
              "      --bg-color: #3B4455;\n",
              "      --fill-color: #D2E3FC;\n",
              "      --hover-bg-color: #434B5C;\n",
              "      --hover-fill-color: #FFFFFF;\n",
              "      --disabled-bg-color: #3B4455;\n",
              "      --disabled-fill-color: #666;\n",
              "  }\n",
              "\n",
              "  .colab-df-quickchart {\n",
              "    background-color: var(--bg-color);\n",
              "    border: none;\n",
              "    border-radius: 50%;\n",
              "    cursor: pointer;\n",
              "    display: none;\n",
              "    fill: var(--fill-color);\n",
              "    height: 32px;\n",
              "    padding: 0;\n",
              "    width: 32px;\n",
              "  }\n",
              "\n",
              "  .colab-df-quickchart:hover {\n",
              "    background-color: var(--hover-bg-color);\n",
              "    box-shadow: 0 1px 2px rgba(60, 64, 67, 0.3), 0 1px 3px 1px rgba(60, 64, 67, 0.15);\n",
              "    fill: var(--button-hover-fill-color);\n",
              "  }\n",
              "\n",
              "  .colab-df-quickchart-complete:disabled,\n",
              "  .colab-df-quickchart-complete:disabled:hover {\n",
              "    background-color: var(--disabled-bg-color);\n",
              "    fill: var(--disabled-fill-color);\n",
              "    box-shadow: none;\n",
              "  }\n",
              "\n",
              "  .colab-df-spinner {\n",
              "    border: 2px solid var(--fill-color);\n",
              "    border-color: transparent;\n",
              "    border-bottom-color: var(--fill-color);\n",
              "    animation:\n",
              "      spin 1s steps(1) infinite;\n",
              "  }\n",
              "\n",
              "  @keyframes spin {\n",
              "    0% {\n",
              "      border-color: transparent;\n",
              "      border-bottom-color: var(--fill-color);\n",
              "      border-left-color: var(--fill-color);\n",
              "    }\n",
              "    20% {\n",
              "      border-color: transparent;\n",
              "      border-left-color: var(--fill-color);\n",
              "      border-top-color: var(--fill-color);\n",
              "    }\n",
              "    30% {\n",
              "      border-color: transparent;\n",
              "      border-left-color: var(--fill-color);\n",
              "      border-top-color: var(--fill-color);\n",
              "      border-right-color: var(--fill-color);\n",
              "    }\n",
              "    40% {\n",
              "      border-color: transparent;\n",
              "      border-right-color: var(--fill-color);\n",
              "      border-top-color: var(--fill-color);\n",
              "    }\n",
              "    60% {\n",
              "      border-color: transparent;\n",
              "      border-right-color: var(--fill-color);\n",
              "    }\n",
              "    80% {\n",
              "      border-color: transparent;\n",
              "      border-right-color: var(--fill-color);\n",
              "      border-bottom-color: var(--fill-color);\n",
              "    }\n",
              "    90% {\n",
              "      border-color: transparent;\n",
              "      border-bottom-color: var(--fill-color);\n",
              "    }\n",
              "  }\n",
              "</style>\n",
              "\n",
              "      <script>\n",
              "        async function quickchart(key) {\n",
              "          const quickchartButtonEl =\n",
              "            document.querySelector('#' + key + ' button');\n",
              "          quickchartButtonEl.disabled = true;  // To prevent multiple clicks.\n",
              "          quickchartButtonEl.classList.add('colab-df-spinner');\n",
              "          try {\n",
              "            const charts = await google.colab.kernel.invokeFunction(\n",
              "                'suggestCharts', [key], {});\n",
              "          } catch (error) {\n",
              "            console.error('Error during call to suggestCharts:', error);\n",
              "          }\n",
              "          quickchartButtonEl.classList.remove('colab-df-spinner');\n",
              "          quickchartButtonEl.classList.add('colab-df-quickchart-complete');\n",
              "        }\n",
              "        (() => {\n",
              "          let quickchartButtonEl =\n",
              "            document.querySelector('#df-29789eb3-9598-4ee2-9c29-1458d0e62033 button');\n",
              "          quickchartButtonEl.style.display =\n",
              "            google.colab.kernel.accessAllowed ? 'block' : 'none';\n",
              "        })();\n",
              "      </script>\n",
              "    </div>\n",
              "\n",
              "    </div>\n",
              "  </div>\n"
            ],
            "application/vnd.google.colaboratory.intrinsic+json": {
              "type": "dataframe",
              "variable_name": "notas"
            }
          },
          "metadata": {},
          "execution_count": 52
        }
      ]
    },
    {
      "cell_type": "code",
      "source": [
        "notas.query('filmeId==1')"
      ],
      "metadata": {
        "colab": {
          "base_uri": "https://localhost:8080/",
          "height": 424
        },
        "id": "zo3GtIhkPYkv",
        "outputId": "72fc311b-c73f-4b66-dbb2-ba9b6c5f4309"
      },
      "execution_count": 53,
      "outputs": [
        {
          "output_type": "execute_result",
          "data": {
            "text/plain": [
              "       usuuarioId  filmeId  nota     momento\n",
              "0               1        1   4.0   964982703\n",
              "516             5        1   4.0   847434962\n",
              "874             7        1   4.5  1106635946\n",
              "1434           15        1   2.5  1510577970\n",
              "1667           17        1   4.5  1305696483\n",
              "...           ...      ...   ...         ...\n",
              "97364         606        1   2.5  1349082950\n",
              "98479         607        1   4.0   964744033\n",
              "98666         608        1   2.5  1117408267\n",
              "99497         609        1   3.0   847221025\n",
              "99534         610        1   5.0  1479542900\n",
              "\n",
              "[215 rows x 4 columns]"
            ],
            "text/html": [
              "\n",
              "  <div id=\"df-a0ae9559-b163-4591-8f60-dd4ea2000f6f\" class=\"colab-df-container\">\n",
              "    <div>\n",
              "<style scoped>\n",
              "    .dataframe tbody tr th:only-of-type {\n",
              "        vertical-align: middle;\n",
              "    }\n",
              "\n",
              "    .dataframe tbody tr th {\n",
              "        vertical-align: top;\n",
              "    }\n",
              "\n",
              "    .dataframe thead th {\n",
              "        text-align: right;\n",
              "    }\n",
              "</style>\n",
              "<table border=\"1\" class=\"dataframe\">\n",
              "  <thead>\n",
              "    <tr style=\"text-align: right;\">\n",
              "      <th></th>\n",
              "      <th>usuuarioId</th>\n",
              "      <th>filmeId</th>\n",
              "      <th>nota</th>\n",
              "      <th>momento</th>\n",
              "    </tr>\n",
              "  </thead>\n",
              "  <tbody>\n",
              "    <tr>\n",
              "      <th>0</th>\n",
              "      <td>1</td>\n",
              "      <td>1</td>\n",
              "      <td>4.0</td>\n",
              "      <td>964982703</td>\n",
              "    </tr>\n",
              "    <tr>\n",
              "      <th>516</th>\n",
              "      <td>5</td>\n",
              "      <td>1</td>\n",
              "      <td>4.0</td>\n",
              "      <td>847434962</td>\n",
              "    </tr>\n",
              "    <tr>\n",
              "      <th>874</th>\n",
              "      <td>7</td>\n",
              "      <td>1</td>\n",
              "      <td>4.5</td>\n",
              "      <td>1106635946</td>\n",
              "    </tr>\n",
              "    <tr>\n",
              "      <th>1434</th>\n",
              "      <td>15</td>\n",
              "      <td>1</td>\n",
              "      <td>2.5</td>\n",
              "      <td>1510577970</td>\n",
              "    </tr>\n",
              "    <tr>\n",
              "      <th>1667</th>\n",
              "      <td>17</td>\n",
              "      <td>1</td>\n",
              "      <td>4.5</td>\n",
              "      <td>1305696483</td>\n",
              "    </tr>\n",
              "    <tr>\n",
              "      <th>...</th>\n",
              "      <td>...</td>\n",
              "      <td>...</td>\n",
              "      <td>...</td>\n",
              "      <td>...</td>\n",
              "    </tr>\n",
              "    <tr>\n",
              "      <th>97364</th>\n",
              "      <td>606</td>\n",
              "      <td>1</td>\n",
              "      <td>2.5</td>\n",
              "      <td>1349082950</td>\n",
              "    </tr>\n",
              "    <tr>\n",
              "      <th>98479</th>\n",
              "      <td>607</td>\n",
              "      <td>1</td>\n",
              "      <td>4.0</td>\n",
              "      <td>964744033</td>\n",
              "    </tr>\n",
              "    <tr>\n",
              "      <th>98666</th>\n",
              "      <td>608</td>\n",
              "      <td>1</td>\n",
              "      <td>2.5</td>\n",
              "      <td>1117408267</td>\n",
              "    </tr>\n",
              "    <tr>\n",
              "      <th>99497</th>\n",
              "      <td>609</td>\n",
              "      <td>1</td>\n",
              "      <td>3.0</td>\n",
              "      <td>847221025</td>\n",
              "    </tr>\n",
              "    <tr>\n",
              "      <th>99534</th>\n",
              "      <td>610</td>\n",
              "      <td>1</td>\n",
              "      <td>5.0</td>\n",
              "      <td>1479542900</td>\n",
              "    </tr>\n",
              "  </tbody>\n",
              "</table>\n",
              "<p>215 rows × 4 columns</p>\n",
              "</div>\n",
              "    <div class=\"colab-df-buttons\">\n",
              "\n",
              "  <div class=\"colab-df-container\">\n",
              "    <button class=\"colab-df-convert\" onclick=\"convertToInteractive('df-a0ae9559-b163-4591-8f60-dd4ea2000f6f')\"\n",
              "            title=\"Convert this dataframe to an interactive table.\"\n",
              "            style=\"display:none;\">\n",
              "\n",
              "  <svg xmlns=\"http://www.w3.org/2000/svg\" height=\"24px\" viewBox=\"0 -960 960 960\">\n",
              "    <path d=\"M120-120v-720h720v720H120Zm60-500h600v-160H180v160Zm220 220h160v-160H400v160Zm0 220h160v-160H400v160ZM180-400h160v-160H180v160Zm440 0h160v-160H620v160ZM180-180h160v-160H180v160Zm440 0h160v-160H620v160Z\"/>\n",
              "  </svg>\n",
              "    </button>\n",
              "\n",
              "  <style>\n",
              "    .colab-df-container {\n",
              "      display:flex;\n",
              "      gap: 12px;\n",
              "    }\n",
              "\n",
              "    .colab-df-convert {\n",
              "      background-color: #E8F0FE;\n",
              "      border: none;\n",
              "      border-radius: 50%;\n",
              "      cursor: pointer;\n",
              "      display: none;\n",
              "      fill: #1967D2;\n",
              "      height: 32px;\n",
              "      padding: 0 0 0 0;\n",
              "      width: 32px;\n",
              "    }\n",
              "\n",
              "    .colab-df-convert:hover {\n",
              "      background-color: #E2EBFA;\n",
              "      box-shadow: 0px 1px 2px rgba(60, 64, 67, 0.3), 0px 1px 3px 1px rgba(60, 64, 67, 0.15);\n",
              "      fill: #174EA6;\n",
              "    }\n",
              "\n",
              "    .colab-df-buttons div {\n",
              "      margin-bottom: 4px;\n",
              "    }\n",
              "\n",
              "    [theme=dark] .colab-df-convert {\n",
              "      background-color: #3B4455;\n",
              "      fill: #D2E3FC;\n",
              "    }\n",
              "\n",
              "    [theme=dark] .colab-df-convert:hover {\n",
              "      background-color: #434B5C;\n",
              "      box-shadow: 0px 1px 3px 1px rgba(0, 0, 0, 0.15);\n",
              "      filter: drop-shadow(0px 1px 2px rgba(0, 0, 0, 0.3));\n",
              "      fill: #FFFFFF;\n",
              "    }\n",
              "  </style>\n",
              "\n",
              "    <script>\n",
              "      const buttonEl =\n",
              "        document.querySelector('#df-a0ae9559-b163-4591-8f60-dd4ea2000f6f button.colab-df-convert');\n",
              "      buttonEl.style.display =\n",
              "        google.colab.kernel.accessAllowed ? 'block' : 'none';\n",
              "\n",
              "      async function convertToInteractive(key) {\n",
              "        const element = document.querySelector('#df-a0ae9559-b163-4591-8f60-dd4ea2000f6f');\n",
              "        const dataTable =\n",
              "          await google.colab.kernel.invokeFunction('convertToInteractive',\n",
              "                                                    [key], {});\n",
              "        if (!dataTable) return;\n",
              "\n",
              "        const docLinkHtml = 'Like what you see? Visit the ' +\n",
              "          '<a target=\"_blank\" href=https://colab.research.google.com/notebooks/data_table.ipynb>data table notebook</a>'\n",
              "          + ' to learn more about interactive tables.';\n",
              "        element.innerHTML = '';\n",
              "        dataTable['output_type'] = 'display_data';\n",
              "        await google.colab.output.renderOutput(dataTable, element);\n",
              "        const docLink = document.createElement('div');\n",
              "        docLink.innerHTML = docLinkHtml;\n",
              "        element.appendChild(docLink);\n",
              "      }\n",
              "    </script>\n",
              "  </div>\n",
              "\n",
              "\n",
              "    <div id=\"df-252fe42b-10d2-4c0f-bff2-84bf350124ef\">\n",
              "      <button class=\"colab-df-quickchart\" onclick=\"quickchart('df-252fe42b-10d2-4c0f-bff2-84bf350124ef')\"\n",
              "                title=\"Suggest charts\"\n",
              "                style=\"display:none;\">\n",
              "\n",
              "<svg xmlns=\"http://www.w3.org/2000/svg\" height=\"24px\"viewBox=\"0 0 24 24\"\n",
              "     width=\"24px\">\n",
              "    <g>\n",
              "        <path d=\"M19 3H5c-1.1 0-2 .9-2 2v14c0 1.1.9 2 2 2h14c1.1 0 2-.9 2-2V5c0-1.1-.9-2-2-2zM9 17H7v-7h2v7zm4 0h-2V7h2v10zm4 0h-2v-4h2v4z\"/>\n",
              "    </g>\n",
              "</svg>\n",
              "      </button>\n",
              "\n",
              "<style>\n",
              "  .colab-df-quickchart {\n",
              "      --bg-color: #E8F0FE;\n",
              "      --fill-color: #1967D2;\n",
              "      --hover-bg-color: #E2EBFA;\n",
              "      --hover-fill-color: #174EA6;\n",
              "      --disabled-fill-color: #AAA;\n",
              "      --disabled-bg-color: #DDD;\n",
              "  }\n",
              "\n",
              "  [theme=dark] .colab-df-quickchart {\n",
              "      --bg-color: #3B4455;\n",
              "      --fill-color: #D2E3FC;\n",
              "      --hover-bg-color: #434B5C;\n",
              "      --hover-fill-color: #FFFFFF;\n",
              "      --disabled-bg-color: #3B4455;\n",
              "      --disabled-fill-color: #666;\n",
              "  }\n",
              "\n",
              "  .colab-df-quickchart {\n",
              "    background-color: var(--bg-color);\n",
              "    border: none;\n",
              "    border-radius: 50%;\n",
              "    cursor: pointer;\n",
              "    display: none;\n",
              "    fill: var(--fill-color);\n",
              "    height: 32px;\n",
              "    padding: 0;\n",
              "    width: 32px;\n",
              "  }\n",
              "\n",
              "  .colab-df-quickchart:hover {\n",
              "    background-color: var(--hover-bg-color);\n",
              "    box-shadow: 0 1px 2px rgba(60, 64, 67, 0.3), 0 1px 3px 1px rgba(60, 64, 67, 0.15);\n",
              "    fill: var(--button-hover-fill-color);\n",
              "  }\n",
              "\n",
              "  .colab-df-quickchart-complete:disabled,\n",
              "  .colab-df-quickchart-complete:disabled:hover {\n",
              "    background-color: var(--disabled-bg-color);\n",
              "    fill: var(--disabled-fill-color);\n",
              "    box-shadow: none;\n",
              "  }\n",
              "\n",
              "  .colab-df-spinner {\n",
              "    border: 2px solid var(--fill-color);\n",
              "    border-color: transparent;\n",
              "    border-bottom-color: var(--fill-color);\n",
              "    animation:\n",
              "      spin 1s steps(1) infinite;\n",
              "  }\n",
              "\n",
              "  @keyframes spin {\n",
              "    0% {\n",
              "      border-color: transparent;\n",
              "      border-bottom-color: var(--fill-color);\n",
              "      border-left-color: var(--fill-color);\n",
              "    }\n",
              "    20% {\n",
              "      border-color: transparent;\n",
              "      border-left-color: var(--fill-color);\n",
              "      border-top-color: var(--fill-color);\n",
              "    }\n",
              "    30% {\n",
              "      border-color: transparent;\n",
              "      border-left-color: var(--fill-color);\n",
              "      border-top-color: var(--fill-color);\n",
              "      border-right-color: var(--fill-color);\n",
              "    }\n",
              "    40% {\n",
              "      border-color: transparent;\n",
              "      border-right-color: var(--fill-color);\n",
              "      border-top-color: var(--fill-color);\n",
              "    }\n",
              "    60% {\n",
              "      border-color: transparent;\n",
              "      border-right-color: var(--fill-color);\n",
              "    }\n",
              "    80% {\n",
              "      border-color: transparent;\n",
              "      border-right-color: var(--fill-color);\n",
              "      border-bottom-color: var(--fill-color);\n",
              "    }\n",
              "    90% {\n",
              "      border-color: transparent;\n",
              "      border-bottom-color: var(--fill-color);\n",
              "    }\n",
              "  }\n",
              "</style>\n",
              "\n",
              "      <script>\n",
              "        async function quickchart(key) {\n",
              "          const quickchartButtonEl =\n",
              "            document.querySelector('#' + key + ' button');\n",
              "          quickchartButtonEl.disabled = true;  // To prevent multiple clicks.\n",
              "          quickchartButtonEl.classList.add('colab-df-spinner');\n",
              "          try {\n",
              "            const charts = await google.colab.kernel.invokeFunction(\n",
              "                'suggestCharts', [key], {});\n",
              "          } catch (error) {\n",
              "            console.error('Error during call to suggestCharts:', error);\n",
              "          }\n",
              "          quickchartButtonEl.classList.remove('colab-df-spinner');\n",
              "          quickchartButtonEl.classList.add('colab-df-quickchart-complete');\n",
              "        }\n",
              "        (() => {\n",
              "          let quickchartButtonEl =\n",
              "            document.querySelector('#df-252fe42b-10d2-4c0f-bff2-84bf350124ef button');\n",
              "          quickchartButtonEl.style.display =\n",
              "            google.colab.kernel.accessAllowed ? 'block' : 'none';\n",
              "        })();\n",
              "      </script>\n",
              "    </div>\n",
              "\n",
              "    </div>\n",
              "  </div>\n"
            ],
            "application/vnd.google.colaboratory.intrinsic+json": {
              "type": "dataframe",
              "summary": "{\n  \"name\": \"notas\",\n  \"rows\": 215,\n  \"fields\": [\n    {\n      \"column\": \"usuuarioId\",\n      \"properties\": {\n        \"dtype\": \"number\",\n        \"std\": 180,\n        \"min\": 1,\n        \"max\": 610,\n        \"num_unique_values\": 215,\n        \"samples\": [\n          587,\n          608,\n          385\n        ],\n        \"semantic_type\": \"\",\n        \"description\": \"\"\n      }\n    },\n    {\n      \"column\": \"filmeId\",\n      \"properties\": {\n        \"dtype\": \"number\",\n        \"std\": 0,\n        \"min\": 1,\n        \"max\": 1,\n        \"num_unique_values\": 1,\n        \"samples\": [\n          1\n        ],\n        \"semantic_type\": \"\",\n        \"description\": \"\"\n      }\n    },\n    {\n      \"column\": \"nota\",\n      \"properties\": {\n        \"dtype\": \"number\",\n        \"std\": 0.8348591407114045,\n        \"min\": 0.5,\n        \"max\": 5.0,\n        \"num_unique_values\": 9,\n        \"samples\": [\n          2.0\n        ],\n        \"semantic_type\": \"\",\n        \"description\": \"\"\n      }\n    },\n    {\n      \"column\": \"momento\",\n      \"properties\": {\n        \"dtype\": \"number\",\n        \"std\": 239316282,\n        \"min\": 829322340,\n        \"max\": 1535709666,\n        \"num_unique_values\": 215,\n        \"samples\": [\n          953137847\n        ],\n        \"semantic_type\": \"\",\n        \"description\": \"\"\n      }\n    }\n  ]\n}"
            }
          },
          "metadata": {},
          "execution_count": 53
        }
      ]
    },
    {
      "cell_type": "code",
      "source": [
        "notas.query('filmeId==1')['nota'] #novo data frame, onde obtive somente a coluna nota"
      ],
      "metadata": {
        "colab": {
          "base_uri": "https://localhost:8080/",
          "height": 458
        },
        "id": "UDY2a67qWEBM",
        "outputId": "f972c2d3-dc84-466e-8967-32a0b3848dc9"
      },
      "execution_count": 54,
      "outputs": [
        {
          "output_type": "execute_result",
          "data": {
            "text/plain": [
              "0        4.0\n",
              "516      4.0\n",
              "874      4.5\n",
              "1434     2.5\n",
              "1667     4.5\n",
              "        ... \n",
              "97364    2.5\n",
              "98479    4.0\n",
              "98666    2.5\n",
              "99497    3.0\n",
              "99534    5.0\n",
              "Name: nota, Length: 215, dtype: float64"
            ],
            "text/html": [
              "<div>\n",
              "<style scoped>\n",
              "    .dataframe tbody tr th:only-of-type {\n",
              "        vertical-align: middle;\n",
              "    }\n",
              "\n",
              "    .dataframe tbody tr th {\n",
              "        vertical-align: top;\n",
              "    }\n",
              "\n",
              "    .dataframe thead th {\n",
              "        text-align: right;\n",
              "    }\n",
              "</style>\n",
              "<table border=\"1\" class=\"dataframe\">\n",
              "  <thead>\n",
              "    <tr style=\"text-align: right;\">\n",
              "      <th></th>\n",
              "      <th>nota</th>\n",
              "    </tr>\n",
              "  </thead>\n",
              "  <tbody>\n",
              "    <tr>\n",
              "      <th>0</th>\n",
              "      <td>4.0</td>\n",
              "    </tr>\n",
              "    <tr>\n",
              "      <th>516</th>\n",
              "      <td>4.0</td>\n",
              "    </tr>\n",
              "    <tr>\n",
              "      <th>874</th>\n",
              "      <td>4.5</td>\n",
              "    </tr>\n",
              "    <tr>\n",
              "      <th>1434</th>\n",
              "      <td>2.5</td>\n",
              "    </tr>\n",
              "    <tr>\n",
              "      <th>1667</th>\n",
              "      <td>4.5</td>\n",
              "    </tr>\n",
              "    <tr>\n",
              "      <th>...</th>\n",
              "      <td>...</td>\n",
              "    </tr>\n",
              "    <tr>\n",
              "      <th>97364</th>\n",
              "      <td>2.5</td>\n",
              "    </tr>\n",
              "    <tr>\n",
              "      <th>98479</th>\n",
              "      <td>4.0</td>\n",
              "    </tr>\n",
              "    <tr>\n",
              "      <th>98666</th>\n",
              "      <td>2.5</td>\n",
              "    </tr>\n",
              "    <tr>\n",
              "      <th>99497</th>\n",
              "      <td>3.0</td>\n",
              "    </tr>\n",
              "    <tr>\n",
              "      <th>99534</th>\n",
              "      <td>5.0</td>\n",
              "    </tr>\n",
              "  </tbody>\n",
              "</table>\n",
              "<p>215 rows × 1 columns</p>\n",
              "</div><br><label><b>dtype:</b> float64</label>"
            ]
          },
          "metadata": {},
          "execution_count": 54
        }
      ]
    },
    {
      "cell_type": "code",
      "source": [
        "notas.query('filmeId==1')['nota'].mean() #para pegar a média"
      ],
      "metadata": {
        "colab": {
          "base_uri": "https://localhost:8080/"
        },
        "id": "9a9zUadUW7Pj",
        "outputId": "07e99a54-c1e2-481b-8246-64947a501a10"
      },
      "execution_count": 55,
      "outputs": [
        {
          "output_type": "execute_result",
          "data": {
            "text/plain": [
              "np.float64(3.9209302325581397)"
            ]
          },
          "metadata": {},
          "execution_count": 55
        }
      ]
    },
    {
      "cell_type": "code",
      "source": [
        "notas.query('filmeId==2')['nota'].mean() #fazendo a media da coluna de notas do filme 2"
      ],
      "metadata": {
        "colab": {
          "base_uri": "https://localhost:8080/"
        },
        "id": "LALtrQJ2ZLz7",
        "outputId": "2b96874f-2c7c-4af9-c918-715e02a2913e"
      },
      "execution_count": 56,
      "outputs": [
        {
          "output_type": "execute_result",
          "data": {
            "text/plain": [
              "np.float64(3.4318181818181817)"
            ]
          },
          "metadata": {},
          "execution_count": 56
        }
      ]
    },
    {
      "cell_type": "code",
      "source": [
        "medias= notas.groupby('filmeId')['nota'].mean() #agrupou por filme e tirou a média\n",
        "medias.head()"
      ],
      "metadata": {
        "colab": {
          "base_uri": "https://localhost:8080/",
          "height": 272
        },
        "id": "AjdSEC5oZjOW",
        "outputId": "76967325-ba85-4127-e405-e717d893a6c9"
      },
      "execution_count": 57,
      "outputs": [
        {
          "output_type": "execute_result",
          "data": {
            "text/plain": [
              "filmeId\n",
              "1    3.920930\n",
              "2    3.431818\n",
              "3    3.259615\n",
              "4    2.357143\n",
              "5    3.071429\n",
              "Name: nota, dtype: float64"
            ],
            "text/html": [
              "<div>\n",
              "<style scoped>\n",
              "    .dataframe tbody tr th:only-of-type {\n",
              "        vertical-align: middle;\n",
              "    }\n",
              "\n",
              "    .dataframe tbody tr th {\n",
              "        vertical-align: top;\n",
              "    }\n",
              "\n",
              "    .dataframe thead th {\n",
              "        text-align: right;\n",
              "    }\n",
              "</style>\n",
              "<table border=\"1\" class=\"dataframe\">\n",
              "  <thead>\n",
              "    <tr style=\"text-align: right;\">\n",
              "      <th></th>\n",
              "      <th>nota</th>\n",
              "    </tr>\n",
              "    <tr>\n",
              "      <th>filmeId</th>\n",
              "      <th></th>\n",
              "    </tr>\n",
              "  </thead>\n",
              "  <tbody>\n",
              "    <tr>\n",
              "      <th>1</th>\n",
              "      <td>3.920930</td>\n",
              "    </tr>\n",
              "    <tr>\n",
              "      <th>2</th>\n",
              "      <td>3.431818</td>\n",
              "    </tr>\n",
              "    <tr>\n",
              "      <th>3</th>\n",
              "      <td>3.259615</td>\n",
              "    </tr>\n",
              "    <tr>\n",
              "      <th>4</th>\n",
              "      <td>2.357143</td>\n",
              "    </tr>\n",
              "    <tr>\n",
              "      <th>5</th>\n",
              "      <td>3.071429</td>\n",
              "    </tr>\n",
              "  </tbody>\n",
              "</table>\n",
              "</div><br><label><b>dtype:</b> float64</label>"
            ]
          },
          "metadata": {},
          "execution_count": 57
        }
      ]
    },
    {
      "cell_type": "code",
      "source": [
        "medias= notas.groupby('filmeId')['nota'].mean() #agrupou por filme e tirou a média\n",
        "medias.head()\n",
        "medias.plot(kind='hist')"
      ],
      "metadata": {
        "colab": {
          "base_uri": "https://localhost:8080/",
          "height": 447
        },
        "id": "7ncvsVYgaNOX",
        "outputId": "fde17bc8-252d-4323-9f3c-f4d081dc5df5"
      },
      "execution_count": 58,
      "outputs": [
        {
          "output_type": "execute_result",
          "data": {
            "text/plain": [
              "<Axes: ylabel='Frequency'>"
            ]
          },
          "metadata": {},
          "execution_count": 58
        },
        {
          "output_type": "display_data",
          "data": {
            "text/plain": [
              "<Figure size 640x480 with 1 Axes>"
            ],
            "image/png": "[encoded data removed]"
          },
          "metadata": {}
        }
      ]
    },
    {
      "cell_type": "markdown",
      "source": [
        "método query:\n",
        "Ele permite que você selecione linhas com base em condições específicas definidas na expressão de consulta, facilitando a filtragem dos dados. Isso é bastante útil ao lidar com grandes conjuntos de dados e condições de filtragem simples e complexas."
      ],
      "metadata": {
        "id": "MBTiY-5rdiHe"
      }
    },
    {
      "cell_type": "markdown",
      "source": [
        "Query para filtrar dados de duas ou mais colunas.\n"
      ],
      "metadata": {
        "id": "OFFdQwwMehuV"
      }
    },
    {
      "cell_type": "code",
      "source": [
        "#vendas.query('valor > 10 and metodo_pagamento != \"Dinheiro\" ')"
      ],
      "metadata": {
        "id": "mQI4f-rKejOx"
      },
      "execution_count": 59,
      "outputs": []
    },
    {
      "cell_type": "markdown",
      "source": [
        "Neste outro exemplo, estamos filtrando o DataFrame para selecionar apenas as linhas em que o valor do produto é maior que 10 e o método de pagamento é qualquer um, exceto “Dinheiro”."
      ],
      "metadata": {
        "id": "GI4znbNJetFu"
      }
    },
    {
      "cell_type": "code",
      "source": [
        "# Definindo uma variável externa\n",
        "#produtos = ['Café au lait', 'Espresso', 'Cappuccino']\n",
        "#vendas.query('produto in @produtos and metodo_pagamento == \"PIX\" ')"
      ],
      "metadata": {
        "id": "QhlHiqAJemYU"
      },
      "execution_count": 60,
      "outputs": []
    },
    {
      "cell_type": "markdown",
      "source": [
        "Neste exemplo, estamos filtrando o DataFrame para selecionar apenas as linhas em que tenham os produtos passados pela lista produtos e que o método de pagamento seja em PIX."
      ],
      "metadata": {
        "id": "Sid2KEVjevtm"
      }
    },
    {
      "cell_type": "code",
      "source": [
        "sns.boxplot(medias)"
      ],
      "metadata": {
        "id": "2UpuSSi-f324",
        "outputId": "871bebe3-8f4e-46f1-e9b4-aa3625d2bd36",
        "colab": {
          "base_uri": "https://localhost:8080/",
          "height": 428
        }
      },
      "execution_count": 61,
      "outputs": [
        {
          "output_type": "execute_result",
          "data": {
            "text/plain": [
              "<Axes: ylabel='nota'>"
            ]
          },
          "metadata": {},
          "execution_count": 61
        },
        {
          "output_type": "display_data",
          "data": {
            "text/plain": [
              "<Figure size 640x480 with 1 Axes>"
            ],
            "image/png": "[encoded data removed]"
          },
          "metadata": {}
        }
      ]
    },
    {
      "cell_type": "markdown",
      "source": [
        "![image_2025-06-10_220308528.png](data:image/png;base64,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)"
      ],
      "metadata": {
        "id": "NlJrL276glhN"
      }
    },
    {
      "cell_type": "code",
      "source": [
        "medias.describe()"
      ],
      "metadata": {
        "id": "0Z8lE7xag5k3",
        "outputId": "3126650d-0641-4034-d849-924cf7372e75",
        "colab": {
          "base_uri": "https://localhost:8080/",
          "height": 335
        }
      },
      "execution_count": 62,
      "outputs": [
        {
          "output_type": "execute_result",
          "data": {
            "text/plain": [
              "count    9724.000000\n",
              "mean        3.262448\n",
              "std         0.869874\n",
              "min         0.500000\n",
              "25%         2.800000\n",
              "50%         3.416667\n",
              "75%         3.911765\n",
              "max         5.000000\n",
              "Name: nota, dtype: float64"
            ],
            "text/html": [
              "<div>\n",
              "<style scoped>\n",
              "    .dataframe tbody tr th:only-of-type {\n",
              "        vertical-align: middle;\n",
              "    }\n",
              "\n",
              "    .dataframe tbody tr th {\n",
              "        vertical-align: top;\n",
              "    }\n",
              "\n",
              "    .dataframe thead th {\n",
              "        text-align: right;\n",
              "    }\n",
              "</style>\n",
              "<table border=\"1\" class=\"dataframe\">\n",
              "  <thead>\n",
              "    <tr style=\"text-align: right;\">\n",
              "      <th></th>\n",
              "      <th>nota</th>\n",
              "    </tr>\n",
              "  </thead>\n",
              "  <tbody>\n",
              "    <tr>\n",
              "      <th>count</th>\n",
              "      <td>9724.000000</td>\n",
              "    </tr>\n",
              "    <tr>\n",
              "      <th>mean</th>\n",
              "      <td>3.262448</td>\n",
              "    </tr>\n",
              "    <tr>\n",
              "      <th>std</th>\n",
              "      <td>0.869874</td>\n",
              "    </tr>\n",
              "    <tr>\n",
              "      <th>min</th>\n",
              "      <td>0.500000</td>\n",
              "    </tr>\n",
              "    <tr>\n",
              "      <th>25%</th>\n",
              "      <td>2.800000</td>\n",
              "    </tr>\n",
              "    <tr>\n",
              "      <th>50%</th>\n",
              "      <td>3.416667</td>\n",
              "    </tr>\n",
              "    <tr>\n",
              "      <th>75%</th>\n",
              "      <td>3.911765</td>\n",
              "    </tr>\n",
              "    <tr>\n",
              "      <th>max</th>\n",
              "      <td>5.000000</td>\n",
              "    </tr>\n",
              "  </tbody>\n",
              "</table>\n",
              "</div><br><label><b>dtype:</b> float64</label>"
            ]
          },
          "metadata": {},
          "execution_count": 62
        }
      ]
    },
    {
      "cell_type": "code",
      "source": [
        "sns.displot(medias) #usando o histograma com o seaborn"
      ],
      "metadata": {
        "id": "H-uNhw8AyKPw",
        "outputId": "855fc389-f5ca-41f4-b38c-2aba20674fcc",
        "colab": {
          "base_uri": "https://localhost:8080/",
          "height": 523
        }
      },
      "execution_count": 63,
      "outputs": [
        {
          "output_type": "execute_result",
          "data": {
            "text/plain": [
              "<seaborn.axisgrid.FacetGrid at 0x7cb4301db8d0>"
            ]
          },
          "metadata": {},
          "execution_count": 63
        },
        {
          "output_type": "display_data",
          "data": {
            "text/plain": [
              "<Figure size 500x500 with 1 Axes>"
            ],
            "image/png": "[encoded data removed]"
          },
          "metadata": {}
        }
      ]
    },
    {
      "cell_type": "code",
      "source": [
        "sns.displot(medias, kde= True)"
      ],
      "metadata": {
        "id": "5KHaWXNNgKFX",
        "outputId": "627f62ea-f0f0-4ec5-8611-0218c6df70c0",
        "colab": {
          "base_uri": "https://localhost:8080/",
          "height": 523
        }
      },
      "execution_count": 64,
      "outputs": [
        {
          "output_type": "execute_result",
          "data": {
            "text/plain": [
              "<seaborn.axisgrid.FacetGrid at 0x7cb4301efdd0>"
            ]
          },
          "metadata": {},
          "execution_count": 64
        },
        {
          "output_type": "display_data",
          "data": {
            "text/plain": [
              "<Figure size 500x500 with 1 Axes>"
            ],
            "image/png": "[encoded data removed]"
          },
          "metadata": {}
        }
      ]
    },
    {
      "cell_type": "markdown",
      "source": [
        "tanto o pandas como o siborn usam bibliotecas muito boas de gráfico. (meatplotlib.pyplot as plt)\n",
        "podendo curtomizar o grafico e o definir melhor\n"
      ],
      "metadata": {
        "id": "y7-HtpiHhWYj"
      }
    },
    {
      "cell_type": "code",
      "source": [
        "import matplotlib.pyplot as plt #importação da biblioteca de graficos\n",
        "\n",
        "sns.displot(medias, kde= True)\n",
        "plt.title('Histograma das médias') #nomeandoo o titulo do grafico\n",
        "plt.xlabel('Média') #nomeando o eixo x do grafico\n",
        "plt.ylabel('Frequência') #nomeando o eixo y do gráfico\n"
      ],
      "metadata": {
        "id": "o8xzluBYhpWv",
        "outputId": "33057320-89e6-437e-c97c-acf3c5af899a",
        "colab": {
          "base_uri": "https://localhost:8080/",
          "height": 546
        }
      },
      "execution_count": 65,
      "outputs": [
        {
          "output_type": "execute_result",
          "data": {
            "text/plain": [
              "Text(-3.6805555555555554, 0.5, 'Frequência')"
            ]
          },
          "metadata": {},
          "execution_count": 65
        },
        {
          "output_type": "display_data",
          "data": {
            "text/plain": [
              "<Figure size 500x500 with 1 Axes>"
            ],
            "image/png": "[encoded data removed]"
          },
          "metadata": {}
        }
      ]
    },
    {
      "cell_type": "code",
      "source": [
        "# prompt: extraia as notas dos dois filmes em variáveis distintas\n",
        "\n",
        "filme1_nota = notas.query(\"filmeId==1\") [\"nota\"]\n",
        "filme2_nota = notas.query(\"filmeId==2\")[\"nota\"]\n",
        "media_filme1 = filme1_nota.mean()\n",
        "media_filme2 = filme2_nota.mean()\n",
        "\n",
        "print(media_filme1)\n",
        "print(media_filme2)\n"
      ],
      "metadata": {
        "id": "4iDyQ5NHiGAN",
        "colab": {
          "base_uri": "https://localhost:8080/"
        },
        "outputId": "6b41c873-224e-4d2f-9826-628edf2f596a"
      },
      "execution_count": 66,
      "outputs": [
        {
          "output_type": "stream",
          "name": "stdout",
          "text": [
            "3.9209302325581397\n",
            "3.4318181818181817\n"
          ]
        }
      ]
    },
    {
      "cell_type": "code",
      "source": [
        " # prompt: mesmo com a mediana\n",
        "\n",
        "import matplotlib.pyplot as plt\n",
        "mediana_filme1 = filme1_nota.median()\n",
        "mediana_filme2 = filme2_nota.median()\n",
        "\n",
        "print(f\"Mediana do filme 1: {mediana_filme1}\")\n",
        "print(f\"Mediana do filme 2: {mediana_filme2}\")\n",
        "\n",
        "# Visualizando com boxplot\n",
        "plt.figure(figsize=(8, 6))\n",
        "sns.boxplot(x=\"filmeId\", y=\"nota\", data=notas.query(\"filmeId in [1, 2]\"))\n",
        "plt.title('Boxplot das notas para os filmes 1 e 2')\n",
        "plt.xlabel('ID do Filme')\n",
        "plt.ylabel('Nota')\n",
        "plt.show()"
      ],
      "metadata": {
        "colab": {
          "base_uri": "https://localhost:8080/",
          "height": 599
        },
        "id": "a8zgFq2GPoSB",
        "outputId": "8d1f9dba-d03e-4bae-bf9f-a953b0738e48"
      },
      "execution_count": 67,
      "outputs": [
        {
          "output_type": "stream",
          "name": "stdout",
          "text": [
            "Mediana do filme 1: 4.0\n",
            "Mediana do filme 2: 3.5\n"
          ]
        },
        {
          "output_type": "display_data",
          "data": {
            "text/plain": [
              "<Figure size 800x600 with 1 Axes>"
            ],
            "image/png": "[encoded data removed]"
          },
          "metadata": {}
        }
      ]
    },
    {
      "cell_type": "code",
      "source": [
        "import numpy as np\n",
        "\n",
        "filme1 = [2.5]*10 + [3.5]*10\n",
        "np.mean(filme1)"
      ],
      "metadata": {
        "colab": {
          "base_uri": "https://localhost:8080/"
        },
        "id": "KCXK5MvZXUTH",
        "outputId": "d6b429ba-2c15-4e14-c0ad-c226bdf67dfe"
      },
      "execution_count": 69,
      "outputs": [
        {
          "output_type": "execute_result",
          "data": {
            "text/plain": [
              "np.float64(3.0)"
            ]
          },
          "metadata": {},
          "execution_count": 69
        }
      ]
    },
    {
      "cell_type": "code",
      "source": [
        "filme2 = [5]*10 + [1]*10\n",
        "np.mean(filme2)"
      ],
      "metadata": {
        "colab": {
          "base_uri": "https://localhost:8080/"
        },
        "id": "F8YJntBlXuby",
        "outputId": "8caf4659-4c0e-4ca3-87cd-65b0eea88a28"
      },
      "execution_count": 70,
      "outputs": [
        {
          "output_type": "execute_result",
          "data": {
            "text/plain": [
              "np.float64(3.0)"
            ]
          },
          "metadata": {},
          "execution_count": 70
        }
      ]
    },
    {
      "cell_type": "code",
      "source": [
        "# prompt: imprima a media e mediana do filme1 e do  filme2\n",
        "\n",
        "import numpy as np\n",
        "print(f\"Média do filme 1: {np.mean(filme1)}\")\n",
        "print(f\"Mediana do filme 1: {np.median(filme1)}\")\n",
        "\n",
        "print(f\"Média do filme 2: {np.mean(filme2)}\")\n",
        "print(f\"Mediana do filme 2: {np.median(filme2)}\")"
      ],
      "metadata": {
        "colab": {
          "base_uri": "https://localhost:8080/"
        },
        "id": "RJONxQXeYdqw",
        "outputId": "b422fa2a-6474-4d07-dc7a-7a0e8dc8d61d"
      },
      "execution_count": 72,
      "outputs": [
        {
          "output_type": "stream",
          "name": "stdout",
          "text": [
            "Média do filme 1: 3.0\n",
            "Mediana do filme 1: 3.0\n",
            "Média do filme 2: 3.0\n",
            "Mediana do filme 2: 3.0\n"
          ]
        }
      ]
    },
    {
      "cell_type": "code",
      "source": [
        "plt.hist(filme1)"
      ],
      "metadata": {
        "colab": {
          "base_uri": "https://localhost:8080/",
          "height": 482
        },
        "id": "Nl20vuj2YiDI",
        "outputId": "55061b00-55fe-47e8-cb22-d3f65a24e8af"
      },
      "execution_count": 73,
      "outputs": [
        {
          "output_type": "execute_result",
          "data": {
            "text/plain": [
              "(array([10.,  0.,  0.,  0.,  0.,  0.,  0.,  0.,  0., 10.]),\n",
              " array([2.5, 2.6, 2.7, 2.8, 2.9, 3. , 3.1, 3.2, 3.3, 3.4, 3.5]),\n",
              " <BarContainer object of 10 artists>)"
            ]
          },
          "metadata": {},
          "execution_count": 73
        },
        {
          "output_type": "display_data",
          "data": {
            "text/plain": [
              "<Figure size 640x480 with 1 Axes>"
            ],
            "image/png": "[encoded data removed]"
          },
          "metadata": {}
        }
      ]
    },
    {
      "cell_type": "code",
      "source": [
        "plt.hist(filme1)\n",
        "plt.hist(filme2)"
      ],
      "metadata": {
        "colab": {
          "base_uri": "https://localhost:8080/",
          "height": 482
        },
        "id": "8uE7EGPsY9xC",
        "outputId": "29767f3b-4497-4b41-ca65-9d4056799a88"
      },
      "execution_count": 74,
      "outputs": [
        {
          "output_type": "execute_result",
          "data": {
            "text/plain": [
              "(array([10.,  0.,  0.,  0.,  0.,  0.,  0.,  0.,  0., 10.]),\n",
              " array([1. , 1.4, 1.8, 2.2, 2.6, 3. , 3.4, 3.8, 4.2, 4.6, 5. ]),\n",
              " <BarContainer object of 10 artists>)"
            ]
          },
          "metadata": {},
          "execution_count": 74
        },
        {
          "output_type": "display_data",
          "data": {
            "text/plain": [
              "<Figure size 640x480 with 1 Axes>"
            ],
            "image/png": "[encoded data removed]"
          },
          "metadata": {}
        }
      ]
    },
    {
      "cell_type": "code",
      "source": [
        "plt.boxplot([filme1, filme2]) #boxplot do matplotlib"
      ],
      "metadata": {
        "colab": {
          "base_uri": "https://localhost:8080/",
          "height": 690
        },
        "id": "x68UkXPgZBEz",
        "outputId": "9bbb6aeb-63ae-458c-ed72-357aefab7fe2"
      },
      "execution_count": 75,
      "outputs": [
        {
          "output_type": "execute_result",
          "data": {
            "text/plain": [
              "{'whiskers': [<matplotlib.lines.Line2D at 0x7cb42fb50310>,\n",
              "  <matplotlib.lines.Line2D at 0x7cb42fb50790>,\n",
              "  <matplotlib.lines.Line2D at 0x7cb42ef71690>,\n",
              "  <matplotlib.lines.Line2D at 0x7cb42ef73b10>],\n",
              " 'caps': [<matplotlib.lines.Line2D at 0x7cb42f37a990>,\n",
              "  <matplotlib.lines.Line2D at 0x7cb42f37b550>,\n",
              "  <matplotlib.lines.Line2D at 0x7cb42ef700d0>,\n",
              "  <matplotlib.lines.Line2D at 0x7cb42ef73f10>],\n",
              " 'boxes': [<matplotlib.lines.Line2D at 0x7cb42f1f9210>,\n",
              "  <matplotlib.lines.Line2D at 0x7cb42f379110>],\n",
              " 'medians': [<matplotlib.lines.Line2D at 0x7cb42f37a510>,\n",
              "  <matplotlib.lines.Line2D at 0x7cb42ef71950>],\n",
              " 'fliers': [<matplotlib.lines.Line2D at 0x7cb42f379350>,\n",
              "  <matplotlib.lines.Line2D at 0x7cb42ef71050>],\n",
              " 'means': []}"
            ]
          },
          "metadata": {},
          "execution_count": 75
        },
        {
          "output_type": "display_data",
          "data": {
            "text/plain": [
              "<Figure size 640x480 with 1 Axes>"
            ],
            "image/png": "[encoded data removed]"
          },
          "metadata": {}
        }
      ]
    },
    {
      "cell_type": "markdown",
      "source": [
        "desvio padrão vai calcular o quanto fugiu da média. O devio não pode ser nehativo, por isso elevamos ao quadrado. Quanto mais você foge da média, maior será esse desvio (de forma quiadratica).\n"
      ],
      "metadata": {
        "id": "_-EFhyZJaLkE"
      }
    },
    {
      "cell_type": "code",
      "source": [
        "filme0= [3.0]*20 #espalha 0\n",
        "np.mean(filme0)"
      ],
      "metadata": {
        "colab": {
          "base_uri": "https://localhost:8080/"
        },
        "id": "jkakM08Raxrq",
        "outputId": "8a76c9ea-0392-4d13-b66f-2a675a109271"
      },
      "execution_count": 76,
      "outputs": [
        {
          "output_type": "execute_result",
          "data": {
            "text/plain": [
              "np.float64(3.0)"
            ]
          },
          "metadata": {},
          "execution_count": 76
        }
      ]
    },
    {
      "cell_type": "code",
      "source": [
        "np.std(filme0) #o desvio padrao deve ser zero porque todos são 3 (e a media é 3)"
      ],
      "metadata": {
        "colab": {
          "base_uri": "https://localhost:8080/"
        },
        "id": "praY_2-VZNp_",
        "outputId": "127c397f-09ba-47b0-ccb2-cfb786640459"
      },
      "execution_count": 80,
      "outputs": [
        {
          "output_type": "execute_result",
          "data": {
            "text/plain": [
              "np.float64(0.0)"
            ]
          },
          "metadata": {},
          "execution_count": 80
        }
      ]
    },
    {
      "cell_type": "code",
      "source": [
        "np.std(filme1)"
      ],
      "metadata": {
        "colab": {
          "base_uri": "https://localhost:8080/"
        },
        "id": "AkbG-Rg5a7lX",
        "outputId": "0b05080e-d8ae-4b78-f5c6-75d7de7c9502"
      },
      "execution_count": 78,
      "outputs": [
        {
          "output_type": "execute_result",
          "data": {
            "text/plain": [
              "np.float64(0.5)"
            ]
          },
          "metadata": {},
          "execution_count": 78
        }
      ]
    },
    {
      "cell_type": "code",
      "source": [
        "np.std(filme2)"
      ],
      "metadata": {
        "colab": {
          "base_uri": "https://localhost:8080/"
        },
        "id": "Kuq4X2dUbIao",
        "outputId": "5c8933c4-d43b-4e0b-b11e-fd25eb36c47e"
      },
      "execution_count": 79,
      "outputs": [
        {
          "output_type": "execute_result",
          "data": {
            "text/plain": [
              "np.float64(2.0)"
            ]
          },
          "metadata": {},
          "execution_count": 79
        }
      ]
    },
    {
      "cell_type": "markdown",
      "source": [
        "Podemos notar o comportamento do desvio padrão observando o código abaixo que cria um DataFrame que contém a quantidade de visitas em um website por dia da semana em duas semanas:"
      ],
      "metadata": {
        "id": "tUH-x990b6Or"
      }
    },
    {
      "cell_type": "code",
      "source": [
        "import pandas as pd\n",
        "import numpy as np\n",
        "\n",
        "# Criando DataFrame de exemplo\n",
        "\n",
        "dados = np.array([[100, 120, 90, 110, 130], [80, 150, 70, 140, 60]])\n",
        "\n",
        "df = pd.DataFrame(dados, index = [\"Semana 1\", \"Semana 2\"],\n",
        "                  columns= [\"Segunda\", \"Terça\", \"Quarta\", \"Quinta\", \"Sexta\"])\n",
        "\n",
        "# Calculando o desvio padrão das visitas por semana\n",
        "desvio_padrao_semana1 = df.loc[\"Semana 1\"].std()\n",
        "desvio_padrao_semana2 = df.loc[\"Semana 2\"].std()\n",
        "\n",
        "print(df)\n",
        "print(\"\\nDesvio Padrão da Semana 1:\", round(desvio_padrao_semana1, 2))\n",
        "print(\"Desvio Padrão da Semana 2:\", round(desvio_padrao_semana2, 2))"
      ],
      "metadata": {
        "id": "R-HkHLSNb6uy",
        "outputId": "bf74e9a4-7128-4c85-df1a-21b8cf7cfc61",
        "colab": {
          "base_uri": "https://localhost:8080/"
        }
      },
      "execution_count": 81,
      "outputs": [
        {
          "output_type": "stream",
          "name": "stdout",
          "text": [
            "          Segunda  Terça  Quarta  Quinta  Sexta\n",
            "Semana 1      100    120      90     110    130\n",
            "Semana 2       80    150      70     140     60\n",
            "\n",
            "Desvio Padrão da Semana 1: 15.81\n",
            "Desvio Padrão da Semana 2: 41.83\n"
          ]
        }
      ]
    },
    {
      "cell_type": "markdown",
      "source": [
        "Sabendo que estamos trabalhando com dados de uma mesma natureza (quantidade de visitas), isso indica que possuímos uma maior dispersão dos dados de visitas na Semana 2 em relação à média semanal (100 visitas), enquanto que na Semana 1 possuímos uma menor dispersão da quantidade de visitas de acordo com a mesma semana (110 visitas)."
      ],
      "metadata": {
        "id": "uy8uyx7WcLwt"
      }
    },
    {
      "cell_type": "code",
      "source": [],
      "metadata": {
        "id": "WWrVVGLCb9Kv"
      },
      "execution_count": null,
      "outputs": []
    }
  ]
}